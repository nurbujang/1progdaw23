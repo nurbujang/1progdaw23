{
 "cells": [
  {
   "cell_type": "markdown",
   "metadata": {},
   "source": [
    "# Project 1 Programming for Data Analysis Winter 2023 \n",
    "\n",
    "**Author: Nur Bujang**\n",
    "\n",
    "project1.ipynb\n",
    "***"
   ]
  },
  {
   "cell_type": "markdown",
   "metadata": {
    "vscode": {
     "languageId": "plaintext"
    }
   },
   "source": [
    "### Project Instruction:\n",
    "\n",
    "> Using numpy.random package, generate at least one-hundred data points across at least four different variables. Synthesise/simulate a data set as closely matching their properties as possible.\n",
    "\n",
    ">  Investigate the types of variables involved, their likely distributions, and their relationships with each other. Figure out what the variable should look like, the type of distribution for each, and relationship between the variable (what is the reasonable model of the real-world phenomenon, and how it would be distributed).\n",
    "\n",
    "> Detail your research and implement the simulation in a Jupyter notebook – the data set itself can simply be displayed in an output cell within the notebook.\n",
    "\n",
    "> The README need only contain an explanation of what is contained in the repository and how to run the Jupyter notebook. \n",
    "\n",
    "> The notebook should contain the main body of work and should list all references used in completing the project."
   ]
  },
  {
   "cell_type": "markdown",
   "metadata": {},
   "source": [
    "## **Project Title: Optimization of Recombinant CHO Cell Culture in a Miniature Bioreactor Model**\n",
    "\n",
    "### Project Description\n",
    "\n",
    "The goal of this project is to use data analysis and machine learning techniques to simulate a real-world suation in the biopharmaceutical industry, where recombinant Chinese Hamster Ovary cells containing monoclonal antibodies are being grown under controlled conditions in bioreactors. Hypothetically, through a simulation study, if a problem occurs within the controlled conditions, the user will be able to minimize the damage/loss quickly with strategically-guided decisions, thus, preventing a waste of resources and maximizing profit.\n",
    "\n",
    "The dataset comprises of four independent variables (temperature, dissolved oxygen, glucose concentration and lactate concentration) to determine the optimum conditions for growing recombinant CHO cells. The dependent variable is the final viable cell density. The variables were randomly generated using  numpy.random package. However, the values and distributions were pre-determined from experimental results in peer-reviewed journal articles.\n",
    "\n",
    "The relationship between these variables were then studied. Results show that"
   ]
  },
  {
   "cell_type": "markdown",
   "metadata": {},
   "source": [
    "## Background\n",
    "\n",
    "### Monoclonal Antibodies\n",
    "\n",
    "Monoclonal antibodies (mAbs) are the most profitable therapeutic proteins on the market (Ho et al., 2013). Some examples of mAbs are DARZALEX® (daratumumab) by Johnson & Johnson for multiple myeloma (Content Lab U.S., 2015), ZIRABEV™ (bevacizumab-bvzr), RUXIENCE™ (rituximab-pvvr) and TRAZIMERA™ (trastuzumab-qyyp) by Pfizer for cancer (www.pfizer.com, 2020) and  KEYTRUDA® (pembrolizumab) by Merck Sharp & Dohme (MSD) for cancer treatment (MSD Connect UK, 2022). MAbs are highly specific and each only binds to a specific protein on a cell (www.cancerresearchuk.org, 2021). Depending on the target protein, it will either attack cancer cells directly, flag cancer cells for destruction by the body's immune system or deliver toxins straight to cancer cells (Mayo Clinic, 2019, Malik and Ghatol, 2023). Patient therapy requires high doses of mAbs over a long period of time, thus increasing its market demand constantly (Li et al., 2004).\n",
    "\n",
    "![Structure of monoclonal antibody and its components,  Dabhadkar, Palekar and Pawar (2022)](https://www.researchgate.net/publication/366690611/figure/fig1/AS:11431281110227336@1672404820275/Structure-of-monoclonal-antibody-and-its-components-Structure-of-monoclonal-antibodies.png)\n",
    "\n",
    "### Monoclonal Antibody Production Technologies\n",
    "\n",
    "According to Schofield (2023), current commercial mAb manufacturing methods are hybridoma technique, phage display, single B cell technology and recombinant DNA technology, with the latter being the most popular. Recombinant monoclonal antibody mass-production involves inserting select functional gene regions into expression vector into mammalian or bacterial cell cultures (Schofield, 2023). \n",
    "\n",
    "Recently, DeLuca, Mick and DeLuca (2022) reported a method to produce recombinant monoclonal antibodies from human cells at a considerably low cost. However, currently, the currently preferred host for recombinant mAb production are Chinese Hamster Ovary (CHO cells) mammalian cells due to their ability to produce complex proteins with post-translational modifications, high productivity and ease-of-use in large scale cell culture (Eberle, 2023). \n",
    "\n",
    "![Cytocentered Chinese hamster ovary (CHO) cell ,  Stett et al. (2003)](https://www.researchgate.net/profile/Alfred-Stett/publication/6895082/figure/fig2/AS:280362598060032@1443855060170/Cytocentered-Chinese-hamster-ovary-CHO-cell-placed-on-a-suction-opening-with-12-m-m.png)\n",
    "\n",
    "### Large-Scale Recombinant Monoclonal Antibody Manufacturing Process\n",
    "\n",
    "According to Vázquez-Rey and Lang (2011), a standard recombinant mAb manufacturing process using mammalian cell culture includes growing seed culture (inoculum) in fermentation tanks, followed by large-scale production of up to 20,000 L in bioreactors, cell harvest/primary recovery, product purification and finally product formulation. \n",
    "\n",
    "Because of the increasing demand in human and animal therapy, new strategies and technologies are continually being developed to maximize cell culture productivity (Rodrigues et al., 2009, Singh et al., 2015, Kunert and Reinhart, 2016). This includes upgraded bioreactors with higher capacities (Rodrigues et al., 2009), disposable bioreactors (Zhao et al., 2014) and advances in proteomics to produce high quality mAbs (Steinhoff et al., 2016, Jyothilekshmi and Jayaprakash, 2021). \n",
    "\n",
    "### Optimization of CHO Cell Culture Conditions in Bioreactors\n",
    "\n",
    "According to Rodrigues et al. (2009), factors that affect cell production are temperature, pH, osmolality, dissolved oxygen, carbon dioxide (CO<sub>2</sub>), nutrient and metabolites concentration. Optimized temperature, pH, dissolved oxygen, CO<sub>2</sub> and nutrient and metabolites concentration are growth factors for CHO cells while high osmolality and lactate inhibit cell growth. Attributes of specific protein productivity include cell size, cell volume and viable cell density (Alhuthali, Kotidis and Kontoravdi, 2021). \n",
    "\n",
    "It is crucial for these culture conditions to be optimized to maintain a consistent glycosylation profile, which is a critical protein quality trait to ensure proper protein conformation and maintain product integrity and efficacy (Masayoshi Onitsuka et al., 2014, Jennewein and Alter, 2017, Li et al., 2010, 2019, 2022, Reddy et al., 2023).\n",
    "\n",
    "![Industrial bioreactors ,  Pharmaceutical Technology (2003)](https://www.pharmaceutical-technology.com/wp-content/uploads/sites/24/2017/09/CHUGAI-1.jpg)\n",
    "\n",
    "### Factors Affecting CHO Cell Growth\n",
    "\n",
    "While Li et al. (2022) stressed the importance of optimization throughout all stages of genetic modification, expression vector, cell line modification finally production process in recombinant protein production, in this study, I will only focus on the optimization of cell growth conditions in a miniature bioreactor model. For this purpose, I will select four major determinants in cell growth; temperature, dissolved oxygen, glucose concentration and lactate concentration. The dependent variable is final viable cell density (VCD). \n",
    "\n",
    "#### **Temperature**\n",
    "\n",
    "ALthough CHO cells are usually grown at 37°C (Becerra et al., 2012, Xu et al., 2019),  temperature shift (TS) to a hypothermic condition of 25–35°C have been shown to produce cell growth (Al-Fageeh et al., 2006). Sunley, Tharmalingam and Butler (2008) reported a CHO cell population which has adapted to growing at 32°C for 300 days while maintaining high level of cell-specific recombinant protein. Fan et al. (2010) and Kou et al. (2011) reported 3-fold and 5-fold increase of mAb productivity at  30°C compared to that of 37°C. Meanwhile, Jenkins and Hovey (1993) reported significantly increased protein yield from CHO cells at alternating temperatures between 34°C and 39°C. \n",
    "\n",
    "#### **Dissolved Oxygen**\n",
    "\n",
    "According to Zakrzewski, Lee and Lye (2022), fluctuations in dissolved oxygen (DO) tension between 10%–30% decreased cell growth by 35%. Fluctuations in DO resulted in increased lactate accumulation (Hippach et al., 2018). Restelli et al. (2006) found that under hyperoxic condition of 200% DO, the final viable cell yield was significantly lower than normoxic condition at 50% DO. \n",
    "\n",
    "#### **Glucose Concentration**\n",
    "\n",
    "Dowd, Kwok and Piret (2001) and Meuwly et al. (2006b) proposed the use of glucose consumption rate (GCR) as a process monitoring tool to indicate medium utilization in cell cultures in bioreactors. López-Meza et al., (2016) found that recombinant CHO cells did not exhibit a lag-phase even at the lowest glucose concentration. Vergara et al. (2018) later reported that high feed glucose limits cell growth, but improves specific protein productivity in CHO cells significantly. Hence, it is important to find the right balance during the optimization process of recombinant cell production.\n",
    "\n",
    "#### **Lactate Concentration**\n",
    "\n",
    "While lactate is a waste product of cell growth and high levels of lactate has negative effects on cell growth (Zhou et al., 2011), Li et al. (2011) found that incorporating lactate in the culture medium could be beneficial in minimizing ammonia accumulation, thus improving cell culture performance. Zagari et al. (2013) reported that high lactate reduces mitochondrial oxidative metabolism in cells. According to Martínez-Monge et al. (2019), CHO cells can metabolize both glucose and lactate during the growth phase. The lactate metabolic shift from lactate production to consumption does not happen in cultures with elevated CO<sub>2</sub> pressure (Brunner et al., 2018)."
   ]
  },
  {
   "cell_type": "markdown",
   "metadata": {
    "vscode": {
     "languageId": "plaintext"
    }
   },
   "source": [
    "## Methods and Implementation"
   ]
  },
  {
   "cell_type": "markdown",
   "metadata": {
    "vscode": {
     "languageId": "plaintext"
    }
   },
   "source": [
    "1. First, I created assumptions for the study:\n",
    "\n",
    "* I focused on growing CHO cells in a miniature bioreactor model. Growing cells in large-scale bioreactors usually takes 2-3 weeks (Xu et al., 2019).\n",
    "\n",
    "* The final cell density reading sample is taken at the deceleration phase in a Standard Growth Curve of cell culture.\n",
    "\n",
    "![Standard Growth Curve,  Bhatia (2015)](https://ars.els-cdn.com/content/image/3-s2.0-B9780128022214000029-f02-09-9780128022214.jpg)"
   ]
  },
  {
   "cell_type": "markdown",
   "metadata": {
    "vscode": {
     "languageId": "plaintext"
    }
   },
   "source": [
    "2. Then, I created Table 1 containing results from past CHO cell culture experiments under various conditions to determine the range for random number generator. \n",
    "\n",
    "#### Table 1: Variables (in unit measurement) involved in recombinant CHO cell culture \n",
    "\n",
    "| **Temperature (°C)**| **Dissolved Oxygen (%)** | **Glucose Concentration (g/L)** | **Lactate Concentration (g/L)** | **Final Viable Cell Density (FVCD) (x10<sup>6</sup>/ml)** | **Source** |\n",
    "| :-------: | :------: | :------: | :------: | :------: | :------: | \n",
    "| 37    |    |   | 9.58 |  2.2  | Vergara et al. (2014) |\n",
    "| 33    |    |   | 9.8 | 2.1  | Vergara et al. (2014) |\n",
    "| 37    |  50 |    7.2      |    5.8      |     25     | Siddiquee et al. (2019)|\n",
    "| 37    |  30 |     8     |    6      |    35      | Siddiquee et al. (2019)|\n",
    "| 32    |  50 |     8.2     |    1.1     |     70     | Siddiquee et al. (2019)|\n",
    "| 32    |  30 |      6    |     3     |     50     | Siddiquee et al. (2019)|\n",
    "| 35.5  |  50    |    |   6.5  |     62  | Zakrzewski, Lee and Lye (2022) |\n",
    "| 35.5  |    30  |    |  7.5   |   41  | Zakrzewski, Lee and Lye (2022) |\n",
    "| 37    | 3  |    |          |  1.5 | Restelli et al. (2006) |\n",
    "| 37    | 10 |    |          |  1.4 | Restelli et al. (2006)|\n",
    "| 37    | 50 |    |          |  1.5 | Restelli et al. (2006) |\n",
    "| 37   | 100 |    |          |  1.1 | Restelli et al. (2006)|\n",
    "| 37   | 200 |    |          |   1.15| Restelli et al. (2006)|\n",
    "| 36.5 |  10 |  12.5  |  4.5 |  8 | Hippach et al. (2018)|\n",
    "| 36.5 |  20 |  12.5  | 4.3  |   17| Hippach et al. (2018)|\n",
    "| 36.5 |  44 |  12.5  |  1.6 |  16 | Hippach et al. (2018) |\n",
    "| 36.5 | 60  |  12.5  | 1.4  |  16.5| Hippach et al. (2018)|\n",
    "| 32|          |4.5 |  2.5 | 15 | Xu et al. (2019)|\n",
    "| 34|          | 2.5 |  2.2 |  45   | Xu et al. (2019) |\n",
    "| 36.5|          | 1 |  0.75 |  52  | Xu et al. (2019) |\n",
    "| 37.5|          |  1.8 |  2.7 |7.5 | Xu et al. (2019)|\n",
    "| 38.5|          |  1.9 |  2.5 |6.75  | Xu et al. (2019) |\n",
    "| 32 | 40 |          | 0.9  | 22 |  McHugh et al. (2020) |\n",
    "| 37 |          |          |  1.35 | 1.15 | Tang et al. (2020) |\n",
    "| 37 | 30 |  6 | 4.2 |  7.5 | Li et al. (2011)|\n",
    "| 30 | 50 |          |          |  0.5 | Kou et al. (2011) |\n",
    "| 37 | 50 |          |          |  4 | Kou et al. (2011) |\n",
    "| 37   | 65 | 1.98 | 1.51 |  11 |  Zagari et al. (2013)|\n",
    "| 37   | 65 | 1.8 | 2.18 |  9.7 |  Zagari et al. (2013)|\n",
    "| 37   | 65 | 5.04 | 0.68 | 12.5  |  Zagari et al. (2013)|\n",
    "| 37   | 65 | 3.51 |1.78 | 10.5  |  Zagari et al. (2013)|\n",
    "| 37   | 65 | 1.8  | 0.65 | 10  |  Zagari et al. (2013)|\n",
    "| 37 | 10 |          | 4.95 | 10.5 | Brunner et al. (2018) |\n",
    "| 37 | 25 |          | 3.43 | 14.5 | Brunner et al. (2018) |\n",
    "| 36.5 | 25 |          | 1.35 | 8.8| Brunner et al. (2018) |\n",
    "| 36.5 | 40 |          | 2.25 | 9.0 | Brunner et al. (2018) |\n",
    "| 36.6  | 68   | 3.6| 7.2 | 28 | Okamura et al. (2022)|\n",
    "| 35.6  | 56.5 | 3.96 | 0.9 | 25 | Okamura et al. (2022)|\n",
    "| 37 |          | 6.85 | 0.16 |  8.8 | Martínez-Monge et al. (2019) |\n",
    "| 37 | 50 |  0.7 | 1.8 | 1.45 | Ozturk et al. (1997) |\n",
    "| 32|   |          |          | 5.77 | Sunley, Tharmalingam and Butler (2008)|\n",
    "| 33 |          | 3.6 | 0.90 | 1.51 | Vergara et al. (2018) |\n",
    "| 33 |          | 5.4 | 0.54 | 1.10 | Vergara et al. (2018) |\n",
    "| 33 |          | 7.2 | 0.26 | 0.88 | Vergara et al. (2018) |\n",
    "| 37 |          | 3.6 | 0.99 | 1.65 | Vergara et al. (2018) |\n",
    "| 37 |          | 5.4 | 0.78 | 1.01 | Vergara et al. (2018) |\n",
    "| 37 |          | 7.2 | 0.57 | 0.80 | Vergara et al. (2018) |\n",
    "| 33   |          |  4.8 |  0.97 |  6.8 | López-Meza et al., (2016) |\n",
    "| 33   |          |  3.6 |  0.57 |  5.5 | López-Meza et al., (2016) |\n",
    "| 33   |          |  2.4 |  0.2  |  3   | López-Meza et al., (2016) |\n",
    "| 33   |          |  1.2 |  0 |  1.1 | López-Meza et al., (2016) |\n",
    "| 37 | 32.5 |          |  13 |   25 | Gagnon et al. (2011)|\n",
    "| 37 |          | 1.35 |  2.16 | 7 | Pérez-Rodriguez et al. (2020) | \n",
    "| 37 | 45 | 3.0 | 5.7  | 20 | Huang et al. (2020)|\n",
    "| 33.5 | 75 |  1.5 |  2.5 | 61 | Meuwly et al. (2006a) |\n",
    "| 37 | 50 |   |   | 11.75 | Nienow et al. (2013)|\n",
    "| 37 | 40 | 3.06  | 4.9  | 16.67 | Domján et al. (2022) |\n",
    "| 36.5 |  |   | 1.45  | 8.25 | Gibbons et al. (2023) |\n",
    "| 36.5 |  |   | 1.15  | 8.75 | Gibbons et al. (2023) |\n",
    "| 36.5 |  |   |  1.3 | 8 | Gibbons et al. (2023) |\n",
    "| 36.5 |  |   | 1.9  | 10.75 | Gibbons et al. (2023) |\n",
    "| 36.5 |  |   |  1.7 | 10.2 | Gibbons et al. (2023) |\n",
    "| 36.5 |  |   |  2.4 | 10.5 | Gibbons et al. (2023) |\n",
    "| 37 | 50 | 0.01  | 1.51  | 8.3 | Li et al. (2018b) |\n",
    "| 37 | 50 | 0.01  | 1.56  | 7.4 | Li et al. (2018a) |\n",
    "| 37 | 50 | 2.25  | 1.46  | 5.5 | Whelan, Craven and Glennon (2012) |\n",
    "| 37 | 50 | 3.06  |  1.35 | 4.8 | Whelan, Craven and Glennon (2012) |\n",
    "| 37 | 50 |  0.01 |  1.56 | 8.5 | Zavala-Ortiz et al. (2019) |\n",
    "| 37 | 50 |  0.01 |  1.5 | 8.5 | Zavala-Ortiz et al. (2019) |\n",
    "| 37 | 50 |  0.36 |1.62  | 7.3 | Zavala-Ortiz et al. (2019) |"
   ]
  },
  {
   "cell_type": "markdown",
   "metadata": {
    "vscode": {
     "languageId": "plaintext"
    }
   },
   "source": [
    "3. Then, I saved Table 1 in a .csv file named chori.csv. The table contains 5 columns (temp, oxygen, glucose, lactate and fvcd) and 70 rows of data with missing values.  \n",
    "\n",
    "4. I imported Python libraries numpy for computational operations and pandas for data loading from other sources and processing."
   ]
  },
  {
   "cell_type": "code",
   "execution_count": 43,
   "metadata": {},
   "outputs": [],
   "source": [
    "import numpy as np \n",
    "import pandas as pd \n",
    "\n",
    "import matplotlib.pyplot as plt\n",
    "import seaborn as sns\n",
    "\n",
    "from distfit import distfit\n",
    "from scipy.stats import loggamma\n",
    "from scipy.stats import dweibull\n",
    "from scipy.stats import genextreme\n",
    "\n",
    "from sklearn.model_selection import train_test_split\n",
    "from sklearn.linear_model import LinearRegression\n",
    "from sklearn.metrics import r2_score\n",
    "from statsmodels.stats.anova import anova_lm\n",
    "import statsmodels.api as sm"
   ]
  },
  {
   "cell_type": "markdown",
   "metadata": {
    "vscode": {
     "languageId": "plaintext"
    }
   },
   "source": [
    "5. I imported the dataset in chorimil.csv in the repository and performed df.head to show the default first few lines of the dataframe."
   ]
  },
  {
   "cell_type": "code",
   "execution_count": null,
   "metadata": {},
   "outputs": [],
   "source": [
    "df = pd.read_csv('chorimil.csv')\n",
    "df.head() # default is 5 rows"
   ]
  },
  {
   "cell_type": "markdown",
   "metadata": {},
   "source": [
    "I executed df.info() (Ranjan, 2018) to give an output containing the number of rows and columns, column names and their data types and the number of non-null (not missing) values of each column. "
   ]
  },
  {
   "cell_type": "code",
   "execution_count": null,
   "metadata": {},
   "outputs": [],
   "source": [
    "df.info()"
   ]
  },
  {
   "cell_type": "markdown",
   "metadata": {},
   "source": [
    "Output shows that all independent columns are 64-bit floating-point numbers. It is a continuous data type, which is a type of quantitative data. \n",
    "\n",
    "The dependent column (fvcd) is the 64-bit signed integer datatype, which represents whole numbers. Integers are discrete data (not continuous), subdivision is impossible and is also a type of quantitative data (Great Learning Team, 2023)\n",
    "\n",
    "Then, I executed df.describe (Pandas.pydata.org, n.d.) to generate basic statistical information of each column in the dataset."
   ]
  },
  {
   "cell_type": "code",
   "execution_count": null,
   "metadata": {},
   "outputs": [],
   "source": [
    "df.describe()"
   ]
  },
  {
   "cell_type": "markdown",
   "metadata": {},
   "source": [
    "For a quick look at the distribution, I imported matplotlib and seaborn to visualize plots for each variable. To plot multiple subplots in one output, I used Bruno (2020) and Matplotlib.pyplot.subplots (n.d.). \n",
    "\n",
    "I also used distfit (Taskesen, 2020b) for hypothesis testing and to find the best probability distribution to model each variable, as shown in Malloy (2023), Mayo (2022) and Raoniar (2022). "
   ]
  },
  {
   "cell_type": "code",
   "execution_count": null,
   "metadata": {},
   "outputs": [],
   "source": [
    "# For the independent variables: \n",
    "\n",
    "fig, axs = plt.subplots(2, 2, figsize=[15, 10])\n",
    "fig.suptitle('Histplots')\n",
    "\n",
    "sns.histplot(df['temp'], \n",
    "             kde=True, color='blue', label='Data', \n",
    "             ax=axs[0,0]\n",
    "             )\n",
    "axs[0,0].set_title('Temp')\n",
    "\n",
    "sns.histplot(df['oxygen'], \n",
    "             kde=True, color='blue', label='Data', \n",
    "             ax=axs[0,1]\n",
    "             )\n",
    "axs[0,1].set_title('Oxygen')\n",
    "\n",
    "sns.histplot(df['glucose'], \n",
    "             kde=True, color='blue', label='Data', \n",
    "             ax=axs[1,0]\n",
    "             )\n",
    "axs[1,0].set_title('Glucose')\n",
    "\n",
    "sns.histplot(df['lactate'], \n",
    "             kde=True, color='blue', label='Data', \n",
    "             ax=axs[1,1]\n",
    "             )\n",
    "axs[1,1].set_title('Lactate');"
   ]
  },
  {
   "cell_type": "code",
   "execution_count": null,
   "metadata": {},
   "outputs": [],
   "source": [
    "dists = {} # create a list of columns\n",
    "\n",
    "for c in df.columns:\n",
    "    print(c)\n",
    "    dists[c] = {'fit' : distfit() } # Initialize distfit\n",
    "    dists[c]['fit'].fit_transform(df[c].dropna().values) # Fit distributions on empirical temp, after dropping missing values\n",
    "    dists[c]['fit'].predict(df[c].dropna().values) # Predict the probability of the response variables"
   ]
  },
  {
   "cell_type": "code",
   "execution_count": null,
   "metadata": {},
   "outputs": [],
   "source": [
    "fig, axs = plt.subplots(2, 2, figsize=[15, 5])\n",
    "fig.suptitle('Distplots')\n",
    "\n",
    "dists['temp']['fit'].plot(ax=axs[0,0])\n",
    "axs[0,0].set_title('Temp')\n",
    "\n",
    "dists['oxygen']['fit'].plot(ax=axs[0,1])\n",
    "axs[0,1].set_title('Oxygen')\n",
    "\n",
    "dists['glucose']['fit'].plot(ax=axs[1,0])\n",
    "axs[1,0].set_title('Glucose')\n",
    "\n",
    "dists['lactate']['fit'].plot(ax=axs[1,1])\n",
    "axs[1,1].set_title('Lactate');"
   ]
  },
  {
   "cell_type": "code",
   "execution_count": null,
   "metadata": {},
   "outputs": [],
   "source": [
    "# For the dependent variable fvcd:\n",
    "\n",
    "fig, axs = plt.subplots(1, 2, figsize=[10, 4])\n",
    "fig.suptitle('FVCD')\n",
    "\n",
    "sns.histplot(df['fvcd'], \n",
    "             kde=True, color='blue', label='Data', \n",
    "             ax=axs[0]\n",
    "             )\n",
    "\n",
    "#dists['temp']['fit'].plot(ax=axs[0])\n",
    "axs[0].set_title('Histplot')\n",
    "\n",
    "dists['fvcd']['fit'].plot(ax=axs[1])\n",
    "axs[1].set_title('Distplot');"
   ]
  },
  {
   "cell_type": "markdown",
   "metadata": {},
   "source": [
    "The probability distribution for all five columns are summarized in Table 2.\n",
    "\n",
    "#### Table 2: Probability Distribution for Five Variables \n",
    "\n",
    "| **Column**| **Probability Distribution** | \n",
    "| :-------: | :------: |\n",
    "| temp   | Log Gamma   |\n",
    "| oxygen    |  Double Weibull  |\n",
    "| glucose    |  Generalized Extreme Value  |\n",
    "| lactate    |  Generalized Extreme Value |\n",
    "| fvcd    |  Exponential |"
   ]
  },
  {
   "cell_type": "markdown",
   "metadata": {},
   "source": [
    "### Column temp\n",
    "\n",
    "Although the RSS (Residual Sum of Squares, or Sum of Squared Errors , SSE) goodness of fit values are not significant (over 0.05), the best fitting probability distribution is Log Gamma distribution for column temp. Because it is not available in the numpy random package, I used scipy to generate random numbers (Scipy.stats.loggamma, n.d., GeeksforGeeks, 2019, www.tutorialandexample.com, 2023). According to Chan (1993), Log Gamma distribution gets more skewed to the right as the shape parameter gets bigger. In this case, it is positively skewed towards the warmer temperatures. Log Gamma distribution have applications in survival data analysis (SciSpace - Question, n.d.).\n",
    "\n",
    "According to Scipy.stats.loggamma (n.d.), the Log Gamma probability density is as follows:\n",
    "\n",
    "![Log gamma Distribution](loggamma.png)\n",
    "\n",
    "First, I imported the loggamma object (Scipy.stats.loggamma, n.d.) and specified the loggamma model in column temp (Taskesen, 2020a). The relevant parameters to fit into Scipy.stats.loggamma (n.d.) for random variates are c, loc and scale. I seeded the scipy random generator according to Kelsey (2013) and Numpy.org random.seed (n.d.)."
   ]
  },
  {
   "cell_type": "code",
   "execution_count": null,
   "metadata": {},
   "outputs": [],
   "source": [
    "dists['temp']['fit'].model"
   ]
  },
  {
   "cell_type": "code",
   "execution_count": null,
   "metadata": {},
   "outputs": [],
   "source": [
    "np.random.seed(seed=42)\n",
    "templg = loggamma.rvs(c=0.316, loc=37.526 , scale=0.502, size=200, ) # c is the shape parameter\n",
    "\n",
    "templg"
   ]
  },
  {
   "cell_type": "markdown",
   "metadata": {},
   "source": [
    "### Column oxygen\n",
    "\n",
    "The best-fitting distribution for column oxygen is the double Weibull distribution at the lowest RSS = 0.000492482. The double Weibull distribution can be left- or right-skewed (Son and Woo, 2009). Among its application are as a survival model for bacterial inactivation studies (Hwang et al., 2019, Hwang, Park and Chung, 2023) and modelling acoustics (Chen et al., 2010). \n",
    "\n",
    "According to scipy.stats.dweibull (n.d.), the double Weibull probability density is as follows:\n",
    "\n",
    "![Double Weibull Distribution](dweibull.png)\n",
    "\n",
    "Because double Weibull is not available in the numpy random package, I used the dweibull object imported from Scipy.stats.dweibull (n.d.). Then, I specifed the double Weibull model in column oxygen (Taskesen, 2020a) to get the relevant parameters to fit Scipy.stats.dweibull (n.d.) for random variates, which requires c, loc and scale. I also seeded the scipy random generator according to Kelsey (2013) and Numpy.org random.seed (n.d.)."
   ]
  },
  {
   "cell_type": "code",
   "execution_count": null,
   "metadata": {},
   "outputs": [],
   "source": [
    "dists['oxygen']['fit'].model"
   ]
  },
  {
   "cell_type": "code",
   "execution_count": null,
   "metadata": {},
   "outputs": [],
   "source": [
    "np.random.seed(seed=42)\n",
    "oxygendw = dweibull.rvs(c=0.869, loc=50.000, scale=20.512, size=200) # c is the shape parameter\n",
    "\n",
    "oxygendw"
   ]
  },
  {
   "cell_type": "markdown",
   "metadata": {},
   "source": [
    "### Column glucose\n",
    "\n",
    "<!-- The Generalized Extreme Value (GEV) distribution is unavailable in the numpy random package. It combines Gumbel, Fréchet and Weibull distributions within the extreme value theory (Wikipedia, 2023). According to Numpy.random.gumbel (n.d.), The Gumbel (Smallest Extreme Value (SEV)) is a type of GEV distribution used to model extreme values. It has been used to model environmental data such as wind velocity (Gómez, Heleno Bolfarine and Gómez, 2019) and flood frequency (Evin, Merleau and Perreault, 2011). Therefore, Gumbel distribution will be used to model glucose.\n",
    "\n",
    "According to Numpy.random.gumbel (n.d.), the Gumbel probability formula is:\n",
    "\n",
    "![Gumbel Distribution PDF](gumbel.png) -->\n",
    "\n",
    "\n",
    "The Generalized Extreme Value (GEV) distribution is unavailable in the numpy random package. It combines Gumbel, Fréchet and Weibull distributions within the extreme value theory (Wikipedia, 2023). It has been used to model environmental data such as rainfall (Nascimento, Bourguignon and Leão, 2015) and option pricing in the stock market (Markose and Alentorn, 2005).\n",
    "\n",
    "According to Scipy.stats.genextreme (n.d.), the GEV distribution probability formula is:\n",
    "\n",
    "![GEV Distribution PDF](genextreme.png)\n",
    "\n",
    "Because GEV distribution is not available in the numpy random package, I imported genextreme object, then specifed the genextreme model in column glucose (Taskesen, 2020a) to get the relevant parameters to fit Scipy.stats.genextreme (n.d.) for random variates, which requires c, loc and scale. For consistency, I seeded the scipy random generator according to Kelsey (2013) and Numpy.org random.seed (n.d.)."
   ]
  },
  {
   "cell_type": "code",
   "execution_count": null,
   "metadata": {},
   "outputs": [],
   "source": [
    "dists['glucose']['fit'].model"
   ]
  },
  {
   "cell_type": "code",
   "execution_count": null,
   "metadata": {},
   "outputs": [],
   "source": [
    "np.random.seed(seed=42)\n",
    "glucosegx = genextreme.rvs(c=-0.181, loc=2.446, scale=2.285, size=200) # c is the shape parameter\n",
    "\n",
    "glucosegx\n",
    "\n",
    "# # Gumbel\n",
    "# np.random.gumbel(loc=2.0, scale=2.0, size=10)"
   ]
  },
  {
   "cell_type": "markdown",
   "metadata": {},
   "source": [
    "### Column lactate\n",
    "\n",
    "The GEV distribution as above will also be used for column lactate."
   ]
  },
  {
   "cell_type": "code",
   "execution_count": null,
   "metadata": {},
   "outputs": [],
   "source": [
    "dists['lactate']['fit'].model"
   ]
  },
  {
   "cell_type": "code",
   "execution_count": null,
   "metadata": {},
   "outputs": [],
   "source": [
    "np.random.seed(seed=42)\n",
    "lactategx = genextreme.rvs(c=-0.415, loc=1.334, scale=1.138, size=200) # c is the shape parameter\n",
    "\n",
    "lactategx"
   ]
  },
  {
   "cell_type": "code",
   "execution_count": null,
   "metadata": {},
   "outputs": [],
   "source": [
    "# Histograms for simulated independent variables: \n",
    "\n",
    "fig, axs = plt.subplots(2, 2, figsize=[15, 10])\n",
    "fig.suptitle('Histplots')\n",
    "\n",
    "sns.histplot(data=templg, \n",
    "             kde=True, color='blue', label='Data', \n",
    "             ax=axs[0,0]\n",
    "             )\n",
    "axs[0,0].set_title('Simulated Temp')\n",
    "\n",
    "sns.histplot(data=oxygendw, \n",
    "             kde=True, color='blue', label='Data', \n",
    "             ax=axs[0,1]\n",
    "             )\n",
    "axs[0,1].set_title('Simulated Oxygen')\n",
    "\n",
    "sns.histplot(data=glucosegx, \n",
    "             kde=True, color='blue', label='Data', \n",
    "             ax=axs[1,0]\n",
    "             )\n",
    "axs[1,0].set_title('Simulated Glucose')\n",
    "\n",
    "sns.histplot(data=lactategx, \n",
    "             kde=True, color='blue', label='Data', \n",
    "             ax=axs[1,1]\n",
    "             )\n",
    "axs[1,1].set_title('Simulated Lactate');"
   ]
  },
  {
   "cell_type": "markdown",
   "metadata": {},
   "source": [
    "### Column fvcd\n",
    "\n",
    "Exponential distribution is the best fit for column fvcd. Exponential distribution (or negative exponential distribution) is often used to model elapsed time between specific events (Wikipedia Exponential distribution, 2020) . It has been used to model cell migration in cultures (Czirók et al., 1998) and failure times of devices (Balakrishnan et al., 2019). \n",
    "\n",
    "According to Numpy.random.exponential (n.d.), the exponential probability density function is as follows:\n",
    "\n",
    "![Exponential Distribution](exponential.png)\n",
    "\n",
    "After specifying the model in column fvcd (Taskesen, 2020a) to get the relevant parameters to fit Numpy.random.exponential (n.d.) for random variates. Numpy.random.exponential (n.d.)only requires scale, but Scipy.stats.expon (n.d.) requires loc and scale. I seeded the scipy random generator according to Kelsey (2013) and Numpy.org random.seed (n.d.)."
   ]
  },
  {
   "cell_type": "code",
   "execution_count": null,
   "metadata": {},
   "outputs": [],
   "source": [
    "dists['fvcd']['fit'].model"
   ]
  },
  {
   "cell_type": "code",
   "execution_count": null,
   "metadata": {},
   "outputs": [],
   "source": [
    "np.random.seed(seed=42)\n",
    "fvcde=np.random.exponential(scale=13069857.143, size=200) # loc=500000.000 scale=13069857.143\n",
    "\n",
    "fvcde"
   ]
  },
  {
   "cell_type": "code",
   "execution_count": null,
   "metadata": {},
   "outputs": [],
   "source": [
    "# For the dependent variable fvcd:\n",
    "\n",
    "fig, axs = plt.subplots(figsize=[10, 4])\n",
    "\n",
    "sns.histplot(data=fvcde, \n",
    "             kde=True, color='blue', label='Data', \n",
    "             )\n",
    "\n",
    "axs.set_title('Simulated FVCD')"
   ]
  },
  {
   "cell_type": "markdown",
   "metadata": {},
   "source": [
    "Then, I merged multiple arrays into 1 dataset according to Pandas.pydata.org concat (n.d.) and Chen (2020)."
   ]
  },
  {
   "cell_type": "code",
   "execution_count": null,
   "metadata": {},
   "outputs": [],
   "source": [
    "concat = pd.concat([\n",
    "    pd.Series(templg), pd.Series(oxygendw), pd.Series(glucosegx),\n",
    "    pd.Series(lactategx), pd.Series(fvcde)\n",
    "],ignore_index=True, axis=1)\n",
    "\n",
    "concat.columns = ['templg', 'oxygendw', 'glucosegx', 'lactategx', 'fvcde']\n",
    "\n",
    "concat.head(3)"
   ]
  },
  {
   "cell_type": "markdown",
   "metadata": {},
   "source": [
    "Following that, I exported the dataframe into text file called simcho.csv using convert pandas dataframe to string (Pandas.pydata.org DataFrame.to_csv, n.d.) without the index (Nelamali, 2023). "
   ]
  },
  {
   "cell_type": "code",
   "execution_count": null,
   "metadata": {},
   "outputs": [],
   "source": [
    "concat.to_csv('simcho.csv', index=False)"
   ]
  },
  {
   "cell_type": "markdown",
   "metadata": {},
   "source": [
    "Then, I imported the dataset in sim.csv in the repository and performed sim.head to show the default first few lines of the dataframe."
   ]
  },
  {
   "cell_type": "code",
   "execution_count": 4,
   "metadata": {},
   "outputs": [
    {
     "data": {
      "text/html": [
       "<div>\n",
       "<style scoped>\n",
       "    .dataframe tbody tr th:only-of-type {\n",
       "        vertical-align: middle;\n",
       "    }\n",
       "\n",
       "    .dataframe tbody tr th {\n",
       "        vertical-align: top;\n",
       "    }\n",
       "\n",
       "    .dataframe thead th {\n",
       "        text-align: right;\n",
       "    }\n",
       "</style>\n",
       "<table border=\"1\" class=\"dataframe\">\n",
       "  <thead>\n",
       "    <tr style=\"text-align: right;\">\n",
       "      <th></th>\n",
       "      <th>templg</th>\n",
       "      <th>oxygendw</th>\n",
       "      <th>glucosegx</th>\n",
       "      <th>lactategx</th>\n",
       "      <th>fvcde</th>\n",
       "    </tr>\n",
       "  </thead>\n",
       "  <tbody>\n",
       "    <tr>\n",
       "      <th>0</th>\n",
       "      <td>37.299962</td>\n",
       "      <td>28.842038</td>\n",
       "      <td>2.487441</td>\n",
       "      <td>1.354683</td>\n",
       "      <td>6.133267e+06</td>\n",
       "    </tr>\n",
       "    <tr>\n",
       "      <th>1</th>\n",
       "      <td>35.892698</td>\n",
       "      <td>51.249563</td>\n",
       "      <td>11.491099</td>\n",
       "      <td>8.055937</td>\n",
       "      <td>3.934186e+07</td>\n",
       "    </tr>\n",
       "    <tr>\n",
       "      <th>2</th>\n",
       "      <td>33.449363</td>\n",
       "      <td>52.783671</td>\n",
       "      <td>5.408956</td>\n",
       "      <td>3.038449</td>\n",
       "      <td>1.720968e+07</td>\n",
       "    </tr>\n",
       "    <tr>\n",
       "      <th>3</th>\n",
       "      <td>36.993197</td>\n",
       "      <td>103.174283</td>\n",
       "      <td>4.066826</td>\n",
       "      <td>2.209035</td>\n",
       "      <td>1.193203e+07</td>\n",
       "    </tr>\n",
       "    <tr>\n",
       "      <th>4</th>\n",
       "      <td>37.233048</td>\n",
       "      <td>31.073155</td>\n",
       "      <td>1.107161</td>\n",
       "      <td>0.712445</td>\n",
       "      <td>2.216973e+06</td>\n",
       "    </tr>\n",
       "  </tbody>\n",
       "</table>\n",
       "</div>"
      ],
      "text/plain": [
       "      templg    oxygendw  glucosegx  lactategx         fvcde\n",
       "0  37.299962   28.842038   2.487441   1.354683  6.133267e+06\n",
       "1  35.892698   51.249563  11.491099   8.055937  3.934186e+07\n",
       "2  33.449363   52.783671   5.408956   3.038449  1.720968e+07\n",
       "3  36.993197  103.174283   4.066826   2.209035  1.193203e+07\n",
       "4  37.233048   31.073155   1.107161   0.712445  2.216973e+06"
      ]
     },
     "execution_count": 4,
     "metadata": {},
     "output_type": "execute_result"
    }
   ],
   "source": [
    "sim = pd.read_csv('simcho.csv')\n",
    "sim.head()"
   ]
  },
  {
   "cell_type": "markdown",
   "metadata": {},
   "source": [
    "# Analysis"
   ]
  },
  {
   "cell_type": "markdown",
   "metadata": {},
   "source": [
    "## Scatter Plot"
   ]
  },
  {
   "cell_type": "markdown",
   "metadata": {},
   "source": [
    "A scatter plot is a data visualization method that shows relationship between 2 variables (Wikipedia Contributors, 2019b). For continuous variables, one variable is on the x axis, and the other on the y axis (www.jmp.com Scatter Plot, n.d.). \n",
    "\n",
    "I ran a scatter plot according to seaborn.pydata.org (n.d.), Koehrsen (2018), Ali (2023) and Stack Overflow (2018)."
   ]
  },
  {
   "cell_type": "code",
   "execution_count": null,
   "metadata": {},
   "outputs": [],
   "source": [
    "sns.pairplot(sim, diag_kind = 'kde')\n",
    "plt.suptitle('Scatter Plot for Simulated CHO Cells Data', y=1.01,\n",
    "             fontweight='bold', size=17);"
   ]
  },
  {
   "cell_type": "markdown",
   "metadata": {},
   "source": [
    "Output shows that glucose and lactate correspond directly to final viable cell density. Glucose and lactate also has a linear relationship with each other."
   ]
  },
  {
   "cell_type": "markdown",
   "metadata": {},
   "source": [
    "## Violin Plot"
   ]
  },
  {
   "cell_type": "markdown",
   "metadata": {},
   "source": [
    "The violin plot compares probability disributions between 2 variables (Wikipedia Violin Plot, 2020). Using density curves, the curve's width indicates frequency in each section (Yi, 2021). \n",
    "\n",
    "I executed Violin plots according to Seaborn.pydata.org violinplot (n.d.) and Stack Overflow (2023) for different y-axes."
   ]
  },
  {
   "cell_type": "code",
   "execution_count": 23,
   "metadata": {},
   "outputs": [
    {
     "ename": "SyntaxError",
     "evalue": "invalid syntax. Perhaps you forgot a comma? (2688163780.py, line 5)",
     "output_type": "error",
     "traceback": [
      "\u001b[0;36m  Cell \u001b[0;32mIn[23], line 5\u001b[0;36m\u001b[0m\n\u001b[0;31m    sns.violinplot(data = [sim['templg'], sim['oxygendx'], sim['glucosegx'], sim['lactategx']]\u001b[0m\n\u001b[0m                          ^\u001b[0m\n\u001b[0;31mSyntaxError\u001b[0m\u001b[0;31m:\u001b[0m invalid syntax. Perhaps you forgot a comma?\n"
     ]
    }
   ],
   "source": [
    "# Create a figure and axis\n",
    "fig, ax1 = plt.subplots()\n",
    "\n",
    "# Create violin plots on the first y-axis for each dataset\n",
    "sns.violinplot(data=[sim['templg'], sim['oxygendx'], sim['glucosegx'], sim['lactategx']]\n",
    "                     ax=ax1, color='skyblue', inner='quartile', split=True)\n",
    "\n",
    "# Set labels and title for the first y-axis\n",
    "ax1.set_xlabel('Values', color='tab:blue')\n",
    "ax1.set_ylabel('Independent Variables')\n",
    "\n",
    "# Create a second y-axis\n",
    "ax2 = ax1.twinx()\n",
    "\n",
    "# Create violin plots on the second y-axis for each dataset\n",
    "sns.violinplot(sim=fvcde, ax=ax2, color='salmon', inner='quartile', split=True)\n",
    "\n",
    "# Set labels and title for the second y-axis\n",
    "ax2.set_xlabel('Values')\n",
    "ax2.set_ylabel('Final Viable Cell Density')\n",
    "\n",
    "# Set the title for the entire plot\n",
    "plt.title('Multiple Violin Plots of Temperature, Oxygen, Glucose, Lactate and Final Viable Cell Density')\n",
    "\n",
    "# Show the plot\n",
    "plt.show();\n"
   ]
  },
  {
   "cell_type": "code",
   "execution_count": 75,
   "metadata": {},
   "outputs": [
    {
     "ename": "AttributeError",
     "evalue": "'Axes' object has no attribute 'setlabel'",
     "output_type": "error",
     "traceback": [
      "\u001b[0;31m---------------------------------------------------------------------------\u001b[0m",
      "\u001b[0;31mAttributeError\u001b[0m                            Traceback (most recent call last)",
      "\u001b[1;32m/home/rsalgo/Desktop/ATU/W23/PROGDAW2023/1progdaw23/project1.ipynb Cell 52\u001b[0m line \u001b[0;36m7\n\u001b[1;32m      <a href='vscode-notebook-cell:/home/rsalgo/Desktop/ATU/W23/PROGDAW2023/1progdaw23/project1.ipynb#Y155sZmlsZQ%3D%3D?line=4'>5</a>\u001b[0m \u001b[39mfor\u001b[39;00m i \u001b[39min\u001b[39;00m \u001b[39mrange\u001b[39m(\u001b[39m0\u001b[39m, \u001b[39mlen\u001b[39m(columns)\u001b[39m-\u001b[39m\u001b[39m1\u001b[39m):\n\u001b[1;32m      <a href='vscode-notebook-cell:/home/rsalgo/Desktop/ATU/W23/PROGDAW2023/1progdaw23/project1.ipynb#Y155sZmlsZQ%3D%3D?line=5'>6</a>\u001b[0m     sns\u001b[39m.\u001b[39mviolinplot(sim, x\u001b[39m=\u001b[39m\u001b[39m'\u001b[39m\u001b[39mfvcde\u001b[39m\u001b[39m'\u001b[39m, y\u001b[39m=\u001b[39msim[columns[\u001b[39m1\u001b[39m]], ax\u001b[39m=\u001b[39maxs[i])\n\u001b[0;32m----> <a href='vscode-notebook-cell:/home/rsalgo/Desktop/ATU/W23/PROGDAW2023/1progdaw23/project1.ipynb#Y155sZmlsZQ%3D%3D?line=6'>7</a>\u001b[0m     axs[i]\u001b[39m.\u001b[39;49msetlabel(columns[i])\n\u001b[1;32m      <a href='vscode-notebook-cell:/home/rsalgo/Desktop/ATU/W23/PROGDAW2023/1progdaw23/project1.ipynb#Y155sZmlsZQ%3D%3D?line=8'>9</a>\u001b[0m plt\u001b[39m.\u001b[39msuptitle(\u001b[39m'\u001b[39m\u001b[39mViolin Plot for Temperature, Oxygen, Glucose and Lactate on Final Viable Cell Density\u001b[39m\u001b[39m'\u001b[39m,\n\u001b[1;32m     <a href='vscode-notebook-cell:/home/rsalgo/Desktop/ATU/W23/PROGDAW2023/1progdaw23/project1.ipynb#Y155sZmlsZQ%3D%3D?line=9'>10</a>\u001b[0m              fontweight\u001b[39m=\u001b[39m\u001b[39m'\u001b[39m\u001b[39mbold\u001b[39m\u001b[39m'\u001b[39m, size\u001b[39m=\u001b[39m\u001b[39m17\u001b[39m);\n\u001b[1;32m     <a href='vscode-notebook-cell:/home/rsalgo/Desktop/ATU/W23/PROGDAW2023/1progdaw23/project1.ipynb#Y155sZmlsZQ%3D%3D?line=10'>11</a>\u001b[0m plt\u001b[39m.\u001b[39mshow()\n",
      "\u001b[0;31mAttributeError\u001b[0m: 'Axes' object has no attribute 'setlabel'"
     ]
    },
    {
     "data": {
      "image/png": "[encoded data removed]",
      "text/plain": [
       "<Figure size 2000x500 with 4 Axes>"
      ]
     },
     "metadata": {},
     "output_type": "display_data"
    }
   ],
   "source": [
    "columns = ['templg', 'oxygendw','glucosegx','lactategx', 'fvcde' ]\n",
    "\n",
    "fig, axs = plt.subplots(1, len(columns)-1, figsize=(20, 5))\n",
    "\n",
    "for i in range(0, len(columns)-1):\n",
    "    sns.violinplot(sim, x='fvcde', y=sim[columns[1]], ax=axs[i])\n",
    "    axs[i].setlabel(columns[i])\n",
    "\n",
    "plt.suptitle('Violin Plot for Temperature, Oxygen, Glucose and Lactate on Final Viable Cell Density',\n",
    "             fontweight='bold', size=17);\n",
    "plt.show()"
   ]
  },
  {
   "cell_type": "markdown",
   "metadata": {},
   "source": []
  },
  {
   "cell_type": "markdown",
   "metadata": {},
   "source": [
    "# Box Plot"
   ]
  },
  {
   "cell_type": "markdown",
   "metadata": {},
   "source": [
    "A Box Plot contains the distribution divided into quartiles where the box represents values closest to the median while the whiskers represent outliers (Banghart, n.d.).  \n",
    "\n",
    "I generated a Box Plot according to pandas.pydata.org boxplot (n.d.)."
   ]
  },
  {
   "cell_type": "code",
   "execution_count": null,
   "metadata": {},
   "outputs": [],
   "source": [
    "# for independent variables:\n",
    "\n",
    "boxploti = sim.boxplot(column=['templg', 'oxygendw', 'glucosegx', 'lactategx'])\n",
    "plt.suptitle('Box Plot for Temperature, Oxygen, Glucose and Lactate',\n",
    "             fontweight='bold', size=17);"
   ]
  },
  {
   "cell_type": "markdown",
   "metadata": {},
   "source": [
    "Output shows that the median for temperature is around 30-35°C with outliers in the lower temperatures, glucose around 10g/L and lactate is around 5g/L with outliers under 25g/L.\n",
    "\n",
    "The median for DO is 50% with a Normal distribution (not skewed). However, I reject that the fact that the data was extremely dispersed with the maximum over 100% and contains negative DO values.\n",
    "\n",
    "There also seems to be relationship between temperature and DO, and between glucose and lactate."
   ]
  },
  {
   "cell_type": "code",
   "execution_count": null,
   "metadata": {},
   "outputs": [],
   "source": [
    "# for dependent variable, fvcde:\n",
    "\n",
    "boxplotd = sim.boxplot(column=['fvcde'])\n",
    "plt.suptitle('Box Plot for Final Viable Cell Density',\n",
    "             fontweight='bold', size=17);"
   ]
  },
  {
   "cell_type": "markdown",
   "metadata": {},
   "source": [
    "The Final Viable Cell Density distribution is positively skewed (skewed right) with 50% of its data below 2x10<sup>7</sup> cells. The maximum is just under 4x10<sup>7</sup> cells with outliers under 6x10<sup>7</sup> cells."
   ]
  },
  {
   "cell_type": "markdown",
   "metadata": {},
   "source": [
    "## Correlation"
   ]
  },
  {
   "cell_type": "markdown",
   "metadata": {},
   "source": [
    "### Pearson Correlation\n",
    "\n",
    "The Pearson correlation coefficient (PCC) for sample measures linear correlation between two sets of data (Wikipedia Contributors, 2019). The correlation is considered strong when it is closer to 1 (Statistics Solutions, 2021). The formula according to Wikipedia Contributors (2019a) is shown below:\n",
    "\n",
    "![sample Pearson Correlation Coefficient](samplepearson.png)\n",
    "\n",
    "sim.corr was executed according to Pandas.pydata.org DataFrame.corr (n.d.). and Stojiljković (n.d.). I eliminated the upper triangle of the matrix according to Alexandru (2017)."
   ]
  },
  {
   "cell_type": "code",
   "execution_count": 5,
   "metadata": {},
   "outputs": [
    {
     "name": "stdout",
     "output_type": "stream",
     "text": [
      "\n",
      "Pearson Correlation by column\n",
      "              templg  oxygendw  glucosegx  lactategx  fvcde\n",
      "templg     1.000000       NaN        NaN        NaN    NaN\n",
      "oxygendw  -0.011699  1.000000        NaN        NaN    NaN\n",
      "glucosegx -0.054305  0.465640   1.000000        NaN    NaN\n",
      "lactategx -0.055617  0.388411   0.981447   1.000000    NaN\n",
      "fvcde     -0.051371  0.466171   0.996476   0.980422    1.0\n"
     ]
    }
   ],
   "source": [
    "corr = sim.corr(method=\"pearson\")  # instantiate a corr method and call it corr \n",
    "bool_upper_matrix = np.tril(np.ones(corr.shape)).astype(bool)  # eliminate upper triangle\n",
    "\n",
    "corr = corr.where(bool_upper_matrix) \n",
    "print('\\nPearson Correlation by column\\n',corr)"
   ]
  },
  {
   "cell_type": "markdown",
   "metadata": {},
   "source": [
    "Results show that glucose and lactate have a strong correlation each other and with fvcde (final number of viable cells). "
   ]
  },
  {
   "cell_type": "markdown",
   "metadata": {},
   "source": [
    "## Multiple Linear Regression"
   ]
  },
  {
   "cell_type": "markdown",
   "metadata": {},
   "source": [
    "Multiple Linear Regression is a statistical method that predicts the value of a dependent variable using two or more independent variables Hayes (2023). It assumes no correlation between the independent variables (no multicollinearity) (www.javatpoint.com, n.d.). According to Bevans (2020), the formula for multiple linear regression with  independent variables formula is:  \n",
    "\n",
    "\\begin{equation*}\n",
    "Y = \\beta_0 + \\beta_1 X_1 + \\beta_2 X_2 + \\ldots + \\beta_n X_n + \\varepsilon\n",
    "\\end{equation*}\n",
    "\n",
    "where:\n",
    "Y: The dependent variable (the variable we are trying to predict),\n",
    "\n",
    "β0​: The intercept term, representing the expected value of YY when all independent variables (X1,X2,…,XnX1​,X2​,…,Xn​) are zero,\n",
    "\n",
    "β1,β2,…,βnβ1​,β2​,…,βn​: The coefficients of the independent variables (X1,X2,…,XnX1​,X2​,…,Xn​). These coefficients represent the change in the dependent variable for a one-unit change in the corresponding independent variable, holding other variables constant,\n",
    "\n",
    "X1,X2,…,XnX1​,X2​,…,Xn​: The independent variables (features or predictors) that influence the dependent variable,\n",
    "\n",
    "εε: The error term, representing the unobserved factors that affect the dependent variable but are not included in the model."
   ]
  },
  {
   "cell_type": "markdown",
   "metadata": {},
   "source": [
    "For this, I imported linear regression from sklearn (Scikit-learn Developers, 2019), train_test_split from sklearn.model_selection (Scikit-learn, 2018) and r2_score from sklearn.metrics for model accuracy Scikit-learn.org r2_score (n.d.).\n",
    "\n",
    "After changing the dataframe to numpy array (Pandas.pydata.org to_numpy, n.d.), I performed Multiple linear regression according to Stojiljković (2019), K (2022) and Kim (2019)."
   ]
  },
  {
   "cell_type": "code",
   "execution_count": 6,
   "metadata": {},
   "outputs": [
    {
     "data": {
      "text/html": [
       "<div>\n",
       "<style scoped>\n",
       "    .dataframe tbody tr th:only-of-type {\n",
       "        vertical-align: middle;\n",
       "    }\n",
       "\n",
       "    .dataframe tbody tr th {\n",
       "        vertical-align: top;\n",
       "    }\n",
       "\n",
       "    .dataframe thead th {\n",
       "        text-align: right;\n",
       "    }\n",
       "</style>\n",
       "<table border=\"1\" class=\"dataframe\">\n",
       "  <thead>\n",
       "    <tr style=\"text-align: right;\">\n",
       "      <th></th>\n",
       "      <th>templg</th>\n",
       "      <th>oxygendw</th>\n",
       "      <th>glucosegx</th>\n",
       "      <th>lactategx</th>\n",
       "    </tr>\n",
       "  </thead>\n",
       "  <tbody>\n",
       "    <tr>\n",
       "      <th>0</th>\n",
       "      <td>37.299962</td>\n",
       "      <td>28.842038</td>\n",
       "      <td>2.487441</td>\n",
       "      <td>1.354683</td>\n",
       "    </tr>\n",
       "    <tr>\n",
       "      <th>1</th>\n",
       "      <td>35.892698</td>\n",
       "      <td>51.249563</td>\n",
       "      <td>11.491099</td>\n",
       "      <td>8.055937</td>\n",
       "    </tr>\n",
       "    <tr>\n",
       "      <th>2</th>\n",
       "      <td>33.449363</td>\n",
       "      <td>52.783671</td>\n",
       "      <td>5.408956</td>\n",
       "      <td>3.038449</td>\n",
       "    </tr>\n",
       "    <tr>\n",
       "      <th>3</th>\n",
       "      <td>36.993197</td>\n",
       "      <td>103.174283</td>\n",
       "      <td>4.066826</td>\n",
       "      <td>2.209035</td>\n",
       "    </tr>\n",
       "    <tr>\n",
       "      <th>4</th>\n",
       "      <td>37.233048</td>\n",
       "      <td>31.073155</td>\n",
       "      <td>1.107161</td>\n",
       "      <td>0.712445</td>\n",
       "    </tr>\n",
       "    <tr>\n",
       "      <th>...</th>\n",
       "      <td>...</td>\n",
       "      <td>...</td>\n",
       "      <td>...</td>\n",
       "      <td>...</td>\n",
       "    </tr>\n",
       "    <tr>\n",
       "      <th>195</th>\n",
       "      <td>35.615297</td>\n",
       "      <td>-13.509808</td>\n",
       "      <td>2.330517</td>\n",
       "      <td>1.276826</td>\n",
       "    </tr>\n",
       "    <tr>\n",
       "      <th>196</th>\n",
       "      <td>35.506740</td>\n",
       "      <td>94.361216</td>\n",
       "      <td>5.335201</td>\n",
       "      <td>2.990356</td>\n",
       "    </tr>\n",
       "    <tr>\n",
       "      <th>197</th>\n",
       "      <td>34.245638</td>\n",
       "      <td>60.533026</td>\n",
       "      <td>8.690280</td>\n",
       "      <td>5.482538</td>\n",
       "    </tr>\n",
       "    <tr>\n",
       "      <th>198</th>\n",
       "      <td>37.826977</td>\n",
       "      <td>79.957433</td>\n",
       "      <td>8.356943</td>\n",
       "      <td>5.206609</td>\n",
       "    </tr>\n",
       "    <tr>\n",
       "      <th>199</th>\n",
       "      <td>36.425148</td>\n",
       "      <td>80.326038</td>\n",
       "      <td>6.062786</td>\n",
       "      <td>3.477748</td>\n",
       "    </tr>\n",
       "  </tbody>\n",
       "</table>\n",
       "<p>200 rows × 4 columns</p>\n",
       "</div>"
      ],
      "text/plain": [
       "        templg    oxygendw  glucosegx  lactategx\n",
       "0    37.299962   28.842038   2.487441   1.354683\n",
       "1    35.892698   51.249563  11.491099   8.055937\n",
       "2    33.449363   52.783671   5.408956   3.038449\n",
       "3    36.993197  103.174283   4.066826   2.209035\n",
       "4    37.233048   31.073155   1.107161   0.712445\n",
       "..         ...         ...        ...        ...\n",
       "195  35.615297  -13.509808   2.330517   1.276826\n",
       "196  35.506740   94.361216   5.335201   2.990356\n",
       "197  34.245638   60.533026   8.690280   5.482538\n",
       "198  37.826977   79.957433   8.356943   5.206609\n",
       "199  36.425148   80.326038   6.062786   3.477748\n",
       "\n",
       "[200 rows x 4 columns]"
      ]
     },
     "execution_count": 6,
     "metadata": {},
     "output_type": "execute_result"
    }
   ],
   "source": [
    "# Define X (input, independent) \n",
    "\n",
    "x=sim.iloc[:,:4] # or\n",
    "# df[:,:-1] # get everything except the last column (4)\n",
    "x"
   ]
  },
  {
   "cell_type": "code",
   "execution_count": 7,
   "metadata": {},
   "outputs": [
    {
     "data": {
      "text/plain": [
       "0      6.133267e+06\n",
       "1      3.934186e+07\n",
       "2      1.720968e+07\n",
       "3      1.193203e+07\n",
       "4      2.216973e+06\n",
       "           ...     \n",
       "195    5.614387e+06\n",
       "196    1.691848e+07\n",
       "197    2.972213e+07\n",
       "198    2.850709e+07\n",
       "199    1.978204e+07\n",
       "Name: fvcde, Length: 200, dtype: float64"
      ]
     },
     "execution_count": 7,
     "metadata": {},
     "output_type": "execute_result"
    }
   ],
   "source": [
    "# Define Y (output, dependent)\n",
    "\n",
    "y=sim.iloc[:,4] # or\n",
    "# y=sim.iloc[:,-1] # get everything in the last column\n",
    "y"
   ]
  },
  {
   "cell_type": "code",
   "execution_count": 8,
   "metadata": {},
   "outputs": [
    {
     "data": {
      "text/plain": [
       "array([ 1.35468290e+00,  8.05593670e+00,  3.03844916e+00,  2.20903514e+00,\n",
       "        7.12445003e-01,  7.12371767e-01,  3.68452393e-01,  4.72649861e+00,\n",
       "        2.22108449e+00,  2.85556684e+00,  1.53466625e-01,  1.02546048e+01,\n",
       "        4.13543696e+00,  8.78253564e-01,  7.89484336e-01,  7.94128605e-01,\n",
       "        1.14307899e+00,  1.88168734e+00,  1.54056000e+00,  1.10516555e+00,\n",
       "        2.27480562e+00,  6.61567337e-01,  1.10782405e+00,  1.32930946e+00,\n",
       "        1.62361515e+00,  3.53407838e+00,  8.41619593e-01,  1.83973083e+00,\n",
       "        2.17879524e+00,  3.13575940e-01,  2.25304317e+00,  7.56041794e-01,\n",
       "        3.98659171e-01,  7.91022447e+00,  9.61859143e+00,  3.80461045e+00,\n",
       "        1.14416567e+00,  5.23534310e-01,  2.69143453e+00,  1.56844253e+00,\n",
       "        6.05925624e-01,  1.76613654e+00,  2.48081818e-01,  5.87347300e+00,\n",
       "        1.01157052e+00,  2.55500068e+00,  1.16497455e+00,  1.86287031e+00,\n",
       "        1.97257854e+00,  7.98385989e-01,  1.02018847e+01,  3.42884571e+00,\n",
       "        7.26280287e+00,  5.41652427e+00,  2.20533220e+00,  6.35973089e+00,\n",
       "        4.90507380e-01,  8.30894673e-01,  3.07401904e-01,  1.20519792e+00,\n",
       "        1.39913145e+00,  1.04770309e+00,  4.08042122e+00,  1.29979229e+00,\n",
       "        1.07535104e+00,  1.95560186e+00,  6.66032372e-01,  3.72825057e+00,\n",
       "        4.37435301e-01,  1.51136835e+01,  3.39973002e+00,  8.38838002e-01,\n",
       "       -2.46416374e-02,  3.89574717e+00,  2.84679307e+00,  3.01448699e+00,\n",
       "        3.39001621e+00,  4.35429902e-01,  1.30503049e+00,  5.85664950e-01,\n",
       "        4.66460393e+00,  2.33405354e+00,  1.22176469e+00,  3.92324896e-01,\n",
       "        1.16283336e+00,  1.20476151e+00,  3.01926525e+00,  2.41098012e+00,\n",
       "        5.20987374e+00,  1.68117772e+00,  5.97941117e-01,  2.89343848e+00,\n",
       "        3.28882386e+00,  2.03562788e+00,  3.38700514e+00,  1.76091547e+00,\n",
       "        1.87354113e+00,  1.52574860e+00,  1.90090186e-01,  5.58903219e-01,\n",
       "        2.30067944e-01,  2.40465708e+00,  1.17275473e+00,  1.81754650e+00,\n",
       "        5.81296406e+00,  9.84353303e-01,  1.46898313e+00,  3.24046750e+00,\n",
       "        9.25589536e-01,  4.46978500e-01,  1.10087715e+00,  7.28180841e-01,\n",
       "        6.72149351e+00,  3.80112923e+00,  2.38819779e+00,  4.83762511e+00,\n",
       "        3.74612392e+00,  8.03416445e-01,  5.35285984e+00,  1.94154411e+00,\n",
       "        3.79260796e+00,  5.45282629e+00,  1.18350813e+00,  5.66218344e-01,\n",
       "        9.23112509e-01,  1.52429708e+00,  3.92984914e+00,  4.61809117e+00,\n",
       "        1.61720155e-03,  1.82603984e+00,  1.49205913e+00,  9.06374780e-01,\n",
       "        5.98829519e-01,  1.24185601e+00,  7.48075771e+00,  1.19888748e+00,\n",
       "        1.85777772e+00,  2.81938261e+00,  1.32088470e+00,  1.05744849e+01,\n",
       "        9.21318271e+00,  9.91493482e-01,  1.77399447e+00,  1.13325111e+00,\n",
       "        1.08664690e+00,  2.62600590e-01,  2.26320916e+00,  1.79475407e+00,\n",
       "        3.38085771e-01,  1.06874262e+00,  5.83690107e+00,  9.56459823e-01,\n",
       "        6.78362270e-01,  1.74459545e+00,  1.45031219e+01,  9.63607259e-01,\n",
       "        2.61401700e+00,  3.29666281e+00,  9.50943091e-01,  3.00819956e+00,\n",
       "        1.33370210e+00,  2.38222827e+00,  2.38888400e+00,  1.92671396e+00,\n",
       "        4.97079519e-01,  4.17903856e+00,  1.19171337e+00,  8.03265403e-01,\n",
       "        2.84121366e-01,  2.17150818e+00,  2.64830768e+00,  1.18796196e-01,\n",
       "        1.83131115e+00,  9.18980209e-01,  2.45358768e+00,  7.67457449e-01,\n",
       "        2.73596667e+00,  1.39297951e+00,  7.09810017e+00,  6.55387406e-01,\n",
       "        1.25222542e+00,  5.77699153e-01,  6.48405822e+00,  4.96884500e+00,\n",
       "        1.00916407e+00,  2.53976643e+00,  3.91919526e+00,  2.00904572e+00,\n",
       "        1.90154555e+00,  9.63025416e-01,  5.07259049e-01,  5.48563780e+00,\n",
       "        5.58186088e+00,  2.38655200e+00,  1.24610244e+00,  1.27682587e+00,\n",
       "        2.99035558e+00,  5.48253837e+00,  5.20660865e+00,  3.47774766e+00])"
      ]
     },
     "execution_count": 8,
     "metadata": {},
     "output_type": "execute_result"
    }
   ],
   "source": [
    "# x to numpy array\n",
    "\n",
    "tl = sim['templg'].to_numpy()\n",
    "#tl\n",
    "ow = sim['oxygendw'].to_numpy()\n",
    "#ow\n",
    "gx = sim['glucosegx'].to_numpy()\n",
    "#gx\n",
    "lx = sim['lactategx'].to_numpy()\n",
    "lx # show one example"
   ]
  },
  {
   "cell_type": "code",
   "execution_count": 9,
   "metadata": {},
   "outputs": [
    {
     "data": {
      "text/plain": [
       "array([ 6133266.89776602, 39341857.08517474, 17209678.10829948,\n",
       "       11932028.7576173 ,  2216972.82484275,  2216599.30730642,\n",
       "         782084.15732849, 26286500.0803452 , 12012272.45058913,\n",
       "       16092262.41378893,   271843.984222  , 45790995.69260891,\n",
       "       23348378.92768033,  3119613.16380566,  2622845.7145598 ,\n",
       "        2648102.35195757,  4741139.42213891,  9723030.47405323,\n",
       "        7391488.67189025,  4498945.33801597, 12368932.12616644,\n",
       "        1963543.82841225,  4515838.3825619 ,  5963478.05975191,\n",
       "        7958689.37974455, 20100603.95924929,  2911125.89864493,\n",
       "        9436817.90936398, 11730258.4926866 ,   621652.72148737,\n",
       "       12224668.96102107,  2443556.85462126,   879129.96746913,\n",
       "       38865674.64901847, 44053657.05782869, 21595737.6095328 ,\n",
       "        4748120.43157786,  1343284.82462387, 15066287.79518374,\n",
       "        7581704.44255366,  1701071.10462696,  8933864.62220697,\n",
       "         457362.94016821, 31373184.2210144 ,  3913870.36366814,\n",
       "       14197208.10799968,  4882200.45852112,  9594724.53665336,\n",
       "       10341182.00776399,  2671329.79722617, 45650490.25291392,\n",
       "       19503433.90149766, 36662183.33276752, 29435304.87209404,\n",
       "       11907351.01934921, 33320756.20236115,  1210993.61203632,\n",
       "        2850989.29676259,   604898.67982412,  5143408.15570302,\n",
       "        6432072.60949334,  4137399.76986412, 23062519.21925605,\n",
       "        5766773.85148993,  4310476.0059103 , 10225948.80519655,\n",
       "        1985287.09230192, 21179489.09935069,  1012598.53739362,\n",
       "       56646673.49526263, 19336641.60086273,  2895488.83895208,\n",
       "          72373.29325421, 22086709.46815972, 16037968.21030863,\n",
       "       17064827.69477298, 19280843.11066717,  1005454.51038123,\n",
       "        5801613.81530465,  1609554.27432566, 25989797.42620395,\n",
       "       12760117.10422138,  5251714.32972601,   858272.23892564,\n",
       "        4868369.52729505,  5140560.57862804, 17093749.6571168 ,\n",
       "       13264458.93711393, 28521720.74512634,  8352503.06815775,\n",
       "        1664738.98851657, 16325902.87377578, 18695028.94109708,\n",
       "       10768091.86006192, 19263531.30954926,  8898151.28168923,\n",
       "        9667496.75451901,  7290551.82672085,   336519.72780104,\n",
       "        1492152.0683404 ,   417368.6525503 , 13223160.69797461,\n",
       "        4932521.07019033,  9285312.41422005, 31122800.2946371 ,\n",
       "        3747635.45374367,  6904569.94293844, 18412150.10865231,\n",
       "        3395616.28592504,  1046951.47719388,  4471724.89466644,\n",
       "        2297790.13014115, 34699818.34425534, 21576858.30115766,\n",
       "       13115525.71393376, 26813069.80395288, 21277321.4887201 ,\n",
       "        2698866.37668315, 29156412.51911815, 10130444.99025117,\n",
       "       21530606.83210276, 29593327.96325889,  5002235.78782547,\n",
       "        1523842.87681251,  3380998.81682922,  7280664.46463358,\n",
       "       22268811.12316776, 25765197.16204077,    91180.67137529,\n",
       "        9343329.27749143,  7061295.12258123,  3282721.23025258,\n",
       "        1668764.47746391,  5383586.294778  , 37420584.0566791 ,\n",
       "        5102260.53460194,  9559983.67813171, 15867943.34700952,\n",
       "        5907242.1337772 , 46630611.98253387, 42895400.07147285,\n",
       "        3791059.6882617 ,  8987608.53258094,  4678099.98036141,\n",
       "        4381665.37753772,   491223.75518964, 12292097.01186671,\n",
       "        9129551.81266419,   690756.16191394,  4268954.12680633,\n",
       "       31222071.36522879,  3579318.29360005,  2045835.99155088,\n",
       "        8786500.43204368, 55468957.07239021,  3622243.12114899,\n",
       "       14574916.67688632, 18740706.43406516,  3546285.80058598,\n",
       "       17026742.38859089,  5992827.48319292, 13076441.05389036,\n",
       "       13120016.99542846, 10029615.59052255,  1236789.58723015,\n",
       "       23573379.79751473,  5055555.27967475,  2698038.14308931,\n",
       "         544095.0134095 , 11681556.06554966, 14793140.47393105,\n",
       "         218618.81502766,  9379329.2215094 ,  3356654.91288112,\n",
       "       13541997.12641327,  2504239.81658206, 15346789.99083104,\n",
       "        6390620.37064985, 36077299.36426551,  1933612.3487563 ,\n",
       "        5451861.32202877,  1574189.59912432, 33801139.03535839,\n",
       "       27424921.79093578,  3899096.10855056, 14099274.89049535,\n",
       "       22212014.04619846, 10588314.22109401,  9858324.13714117,\n",
       "        3618743.43004931,  1277266.69514423, 29735535.53601383,\n",
       "       30149212.23049052, 13104752.60922462,  5411528.73379175,\n",
       "        5614387.37191729, 16918478.24308554, 29722127.48210678,\n",
       "       28507091.09195827, 19782041.62558285])"
      ]
     },
     "execution_count": 9,
     "metadata": {},
     "output_type": "execute_result"
    }
   ],
   "source": [
    "# y to numpy array. Let y be 1D.\n",
    "\n",
    "yn = sim['fvcde'].to_numpy()\n",
    "yn"
   ]
  },
  {
   "cell_type": "markdown",
   "metadata": {},
   "source": [
    "I called .reshape() on x because it has to be a 2D array with at least 2 columns and multiple rows (Numpy.org reshape, n.d.). \n",
    "\n",
    "Let y be 1D in numpy array."
   ]
  },
  {
   "cell_type": "code",
   "execution_count": 10,
   "metadata": {},
   "outputs": [
    {
     "data": {
      "text/plain": [
       "array([[ 1.35468290e+00],\n",
       "       [ 8.05593670e+00],\n",
       "       [ 3.03844916e+00],\n",
       "       [ 2.20903514e+00],\n",
       "       [ 7.12445003e-01],\n",
       "       [ 7.12371767e-01],\n",
       "       [ 3.68452393e-01],\n",
       "       [ 4.72649861e+00],\n",
       "       [ 2.22108449e+00],\n",
       "       [ 2.85556684e+00],\n",
       "       [ 1.53466625e-01],\n",
       "       [ 1.02546048e+01],\n",
       "       [ 4.13543696e+00],\n",
       "       [ 8.78253564e-01],\n",
       "       [ 7.89484336e-01],\n",
       "       [ 7.94128605e-01],\n",
       "       [ 1.14307899e+00],\n",
       "       [ 1.88168734e+00],\n",
       "       [ 1.54056000e+00],\n",
       "       [ 1.10516555e+00],\n",
       "       [ 2.27480562e+00],\n",
       "       [ 6.61567337e-01],\n",
       "       [ 1.10782405e+00],\n",
       "       [ 1.32930946e+00],\n",
       "       [ 1.62361515e+00],\n",
       "       [ 3.53407838e+00],\n",
       "       [ 8.41619593e-01],\n",
       "       [ 1.83973083e+00],\n",
       "       [ 2.17879524e+00],\n",
       "       [ 3.13575940e-01],\n",
       "       [ 2.25304317e+00],\n",
       "       [ 7.56041794e-01],\n",
       "       [ 3.98659171e-01],\n",
       "       [ 7.91022447e+00],\n",
       "       [ 9.61859143e+00],\n",
       "       [ 3.80461045e+00],\n",
       "       [ 1.14416567e+00],\n",
       "       [ 5.23534310e-01],\n",
       "       [ 2.69143453e+00],\n",
       "       [ 1.56844253e+00],\n",
       "       [ 6.05925624e-01],\n",
       "       [ 1.76613654e+00],\n",
       "       [ 2.48081818e-01],\n",
       "       [ 5.87347300e+00],\n",
       "       [ 1.01157052e+00],\n",
       "       [ 2.55500068e+00],\n",
       "       [ 1.16497455e+00],\n",
       "       [ 1.86287031e+00],\n",
       "       [ 1.97257854e+00],\n",
       "       [ 7.98385989e-01],\n",
       "       [ 1.02018847e+01],\n",
       "       [ 3.42884571e+00],\n",
       "       [ 7.26280287e+00],\n",
       "       [ 5.41652427e+00],\n",
       "       [ 2.20533220e+00],\n",
       "       [ 6.35973089e+00],\n",
       "       [ 4.90507380e-01],\n",
       "       [ 8.30894673e-01],\n",
       "       [ 3.07401904e-01],\n",
       "       [ 1.20519792e+00],\n",
       "       [ 1.39913145e+00],\n",
       "       [ 1.04770309e+00],\n",
       "       [ 4.08042122e+00],\n",
       "       [ 1.29979229e+00],\n",
       "       [ 1.07535104e+00],\n",
       "       [ 1.95560186e+00],\n",
       "       [ 6.66032372e-01],\n",
       "       [ 3.72825057e+00],\n",
       "       [ 4.37435301e-01],\n",
       "       [ 1.51136835e+01],\n",
       "       [ 3.39973002e+00],\n",
       "       [ 8.38838002e-01],\n",
       "       [-2.46416374e-02],\n",
       "       [ 3.89574717e+00],\n",
       "       [ 2.84679307e+00],\n",
       "       [ 3.01448699e+00],\n",
       "       [ 3.39001621e+00],\n",
       "       [ 4.35429902e-01],\n",
       "       [ 1.30503049e+00],\n",
       "       [ 5.85664950e-01],\n",
       "       [ 4.66460393e+00],\n",
       "       [ 2.33405354e+00],\n",
       "       [ 1.22176469e+00],\n",
       "       [ 3.92324896e-01],\n",
       "       [ 1.16283336e+00],\n",
       "       [ 1.20476151e+00],\n",
       "       [ 3.01926525e+00],\n",
       "       [ 2.41098012e+00],\n",
       "       [ 5.20987374e+00],\n",
       "       [ 1.68117772e+00],\n",
       "       [ 5.97941117e-01],\n",
       "       [ 2.89343848e+00],\n",
       "       [ 3.28882386e+00],\n",
       "       [ 2.03562788e+00],\n",
       "       [ 3.38700514e+00],\n",
       "       [ 1.76091547e+00],\n",
       "       [ 1.87354113e+00],\n",
       "       [ 1.52574860e+00],\n",
       "       [ 1.90090186e-01],\n",
       "       [ 5.58903219e-01],\n",
       "       [ 2.30067944e-01],\n",
       "       [ 2.40465708e+00],\n",
       "       [ 1.17275473e+00],\n",
       "       [ 1.81754650e+00],\n",
       "       [ 5.81296406e+00],\n",
       "       [ 9.84353303e-01],\n",
       "       [ 1.46898313e+00],\n",
       "       [ 3.24046750e+00],\n",
       "       [ 9.25589536e-01],\n",
       "       [ 4.46978500e-01],\n",
       "       [ 1.10087715e+00],\n",
       "       [ 7.28180841e-01],\n",
       "       [ 6.72149351e+00],\n",
       "       [ 3.80112923e+00],\n",
       "       [ 2.38819779e+00],\n",
       "       [ 4.83762511e+00],\n",
       "       [ 3.74612392e+00],\n",
       "       [ 8.03416445e-01],\n",
       "       [ 5.35285984e+00],\n",
       "       [ 1.94154411e+00],\n",
       "       [ 3.79260796e+00],\n",
       "       [ 5.45282629e+00],\n",
       "       [ 1.18350813e+00],\n",
       "       [ 5.66218344e-01],\n",
       "       [ 9.23112509e-01],\n",
       "       [ 1.52429708e+00],\n",
       "       [ 3.92984914e+00],\n",
       "       [ 4.61809117e+00],\n",
       "       [ 1.61720155e-03],\n",
       "       [ 1.82603984e+00],\n",
       "       [ 1.49205913e+00],\n",
       "       [ 9.06374780e-01],\n",
       "       [ 5.98829519e-01],\n",
       "       [ 1.24185601e+00],\n",
       "       [ 7.48075771e+00],\n",
       "       [ 1.19888748e+00],\n",
       "       [ 1.85777772e+00],\n",
       "       [ 2.81938261e+00],\n",
       "       [ 1.32088470e+00],\n",
       "       [ 1.05744849e+01],\n",
       "       [ 9.21318271e+00],\n",
       "       [ 9.91493482e-01],\n",
       "       [ 1.77399447e+00],\n",
       "       [ 1.13325111e+00],\n",
       "       [ 1.08664690e+00],\n",
       "       [ 2.62600590e-01],\n",
       "       [ 2.26320916e+00],\n",
       "       [ 1.79475407e+00],\n",
       "       [ 3.38085771e-01],\n",
       "       [ 1.06874262e+00],\n",
       "       [ 5.83690107e+00],\n",
       "       [ 9.56459823e-01],\n",
       "       [ 6.78362270e-01],\n",
       "       [ 1.74459545e+00],\n",
       "       [ 1.45031219e+01],\n",
       "       [ 9.63607259e-01],\n",
       "       [ 2.61401700e+00],\n",
       "       [ 3.29666281e+00],\n",
       "       [ 9.50943091e-01],\n",
       "       [ 3.00819956e+00],\n",
       "       [ 1.33370210e+00],\n",
       "       [ 2.38222827e+00],\n",
       "       [ 2.38888400e+00],\n",
       "       [ 1.92671396e+00],\n",
       "       [ 4.97079519e-01],\n",
       "       [ 4.17903856e+00],\n",
       "       [ 1.19171337e+00],\n",
       "       [ 8.03265403e-01],\n",
       "       [ 2.84121366e-01],\n",
       "       [ 2.17150818e+00],\n",
       "       [ 2.64830768e+00],\n",
       "       [ 1.18796196e-01],\n",
       "       [ 1.83131115e+00],\n",
       "       [ 9.18980209e-01],\n",
       "       [ 2.45358768e+00],\n",
       "       [ 7.67457449e-01],\n",
       "       [ 2.73596667e+00],\n",
       "       [ 1.39297951e+00],\n",
       "       [ 7.09810017e+00],\n",
       "       [ 6.55387406e-01],\n",
       "       [ 1.25222542e+00],\n",
       "       [ 5.77699153e-01],\n",
       "       [ 6.48405822e+00],\n",
       "       [ 4.96884500e+00],\n",
       "       [ 1.00916407e+00],\n",
       "       [ 2.53976643e+00],\n",
       "       [ 3.91919526e+00],\n",
       "       [ 2.00904572e+00],\n",
       "       [ 1.90154555e+00],\n",
       "       [ 9.63025416e-01],\n",
       "       [ 5.07259049e-01],\n",
       "       [ 5.48563780e+00],\n",
       "       [ 5.58186088e+00],\n",
       "       [ 2.38655200e+00],\n",
       "       [ 1.24610244e+00],\n",
       "       [ 1.27682587e+00],\n",
       "       [ 2.99035558e+00],\n",
       "       [ 5.48253837e+00],\n",
       "       [ 5.20660865e+00],\n",
       "       [ 3.47774766e+00]])"
      ]
     },
     "execution_count": 10,
     "metadata": {},
     "output_type": "execute_result"
    }
   ],
   "source": [
    "# make x 2D\n",
    "tlr = tl.reshape(-1,1)\n",
    "#tlr\n",
    "owr = ow.reshape(-1,1)\n",
    "#owr\n",
    "gxr = gx.reshape(-1,1)\n",
    "#gxr\n",
    "lxr = lx.reshape(-1,1)\n",
    "lxr"
   ]
  },
  {
   "cell_type": "code",
   "execution_count": 11,
   "metadata": {},
   "outputs": [],
   "source": [
    "# Split sim dataset into Train and Test\n",
    "\n",
    "x_train,x_test,y_train,y_test=train_test_split(x,y,test_size=0.2,random_state=42) # split test 20%, train 80%"
   ]
  },
  {
   "cell_type": "code",
   "execution_count": 12,
   "metadata": {},
   "outputs": [
    {
     "name": "stdout",
     "output_type": "stream",
     "text": [
      "x_train: (160, 4)\n",
      "x_test: (40, 4)\n",
      "y_train: (160,)\n",
      "y_test: (40,)\n"
     ]
    }
   ],
   "source": [
    "# View the shapes of split data.\n",
    "\n",
    "print(\"x_train:\",x_train.shape)\n",
    "print(\"x_test:\",x_test.shape)\n",
    "print(\"y_train:\",y_train.shape)\n",
    "print(\"y_test:\",y_test.shape)"
   ]
  },
  {
   "cell_type": "code",
   "execution_count": 13,
   "metadata": {},
   "outputs": [
    {
     "data": {
      "text/html": [
       "<style>#sk-container-id-1 {color: black;}#sk-container-id-1 pre{padding: 0;}#sk-container-id-1 div.sk-toggleable {background-color: white;}#sk-container-id-1 label.sk-toggleable__label {cursor: pointer;display: block;width: 100%;margin-bottom: 0;padding: 0.3em;box-sizing: border-box;text-align: center;}#sk-container-id-1 label.sk-toggleable__label-arrow:before {content: \"▸\";float: left;margin-right: 0.25em;color: #696969;}#sk-container-id-1 label.sk-toggleable__label-arrow:hover:before {color: black;}#sk-container-id-1 div.sk-estimator:hover label.sk-toggleable__label-arrow:before {color: black;}#sk-container-id-1 div.sk-toggleable__content {max-height: 0;max-width: 0;overflow: hidden;text-align: left;background-color: #f0f8ff;}#sk-container-id-1 div.sk-toggleable__content pre {margin: 0.2em;color: black;border-radius: 0.25em;background-color: #f0f8ff;}#sk-container-id-1 input.sk-toggleable__control:checked~div.sk-toggleable__content {max-height: 200px;max-width: 100%;overflow: auto;}#sk-container-id-1 input.sk-toggleable__control:checked~label.sk-toggleable__label-arrow:before {content: \"▾\";}#sk-container-id-1 div.sk-estimator input.sk-toggleable__control:checked~label.sk-toggleable__label {background-color: #d4ebff;}#sk-container-id-1 div.sk-label input.sk-toggleable__control:checked~label.sk-toggleable__label {background-color: #d4ebff;}#sk-container-id-1 input.sk-hidden--visually {border: 0;clip: rect(1px 1px 1px 1px);clip: rect(1px, 1px, 1px, 1px);height: 1px;margin: -1px;overflow: hidden;padding: 0;position: absolute;width: 1px;}#sk-container-id-1 div.sk-estimator {font-family: monospace;background-color: #f0f8ff;border: 1px dotted black;border-radius: 0.25em;box-sizing: border-box;margin-bottom: 0.5em;}#sk-container-id-1 div.sk-estimator:hover {background-color: #d4ebff;}#sk-container-id-1 div.sk-parallel-item::after {content: \"\";width: 100%;border-bottom: 1px solid gray;flex-grow: 1;}#sk-container-id-1 div.sk-label:hover label.sk-toggleable__label {background-color: #d4ebff;}#sk-container-id-1 div.sk-serial::before {content: \"\";position: absolute;border-left: 1px solid gray;box-sizing: border-box;top: 0;bottom: 0;left: 50%;z-index: 0;}#sk-container-id-1 div.sk-serial {display: flex;flex-direction: column;align-items: center;background-color: white;padding-right: 0.2em;padding-left: 0.2em;position: relative;}#sk-container-id-1 div.sk-item {position: relative;z-index: 1;}#sk-container-id-1 div.sk-parallel {display: flex;align-items: stretch;justify-content: center;background-color: white;position: relative;}#sk-container-id-1 div.sk-item::before, #sk-container-id-1 div.sk-parallel-item::before {content: \"\";position: absolute;border-left: 1px solid gray;box-sizing: border-box;top: 0;bottom: 0;left: 50%;z-index: -1;}#sk-container-id-1 div.sk-parallel-item {display: flex;flex-direction: column;z-index: 1;position: relative;background-color: white;}#sk-container-id-1 div.sk-parallel-item:first-child::after {align-self: flex-end;width: 50%;}#sk-container-id-1 div.sk-parallel-item:last-child::after {align-self: flex-start;width: 50%;}#sk-container-id-1 div.sk-parallel-item:only-child::after {width: 0;}#sk-container-id-1 div.sk-dashed-wrapped {border: 1px dashed gray;margin: 0 0.4em 0.5em 0.4em;box-sizing: border-box;padding-bottom: 0.4em;background-color: white;}#sk-container-id-1 div.sk-label label {font-family: monospace;font-weight: bold;display: inline-block;line-height: 1.2em;}#sk-container-id-1 div.sk-label-container {text-align: center;}#sk-container-id-1 div.sk-container {/* jupyter's `normalize.less` sets `[hidden] { display: none; }` but bootstrap.min.css set `[hidden] { display: none !important; }` so we also need the `!important` here to be able to override the default hidden behavior on the sphinx rendered scikit-learn.org. See: https://github.com/scikit-learn/scikit-learn/issues/21755 */display: inline-block !important;position: relative;}#sk-container-id-1 div.sk-text-repr-fallback {display: none;}</style><div id=\"sk-container-id-1\" class=\"sk-top-container\"><div class=\"sk-text-repr-fallback\"><pre>LinearRegression()</pre><b>In a Jupyter environment, please rerun this cell to show the HTML representation or trust the notebook. <br />On GitHub, the HTML representation is unable to render, please try loading this page with nbviewer.org.</b></div><div class=\"sk-container\" hidden><div class=\"sk-item\"><div class=\"sk-estimator sk-toggleable\"><input class=\"sk-toggleable__control sk-hidden--visually\" id=\"sk-estimator-id-1\" type=\"checkbox\" checked><label for=\"sk-estimator-id-1\" class=\"sk-toggleable__label sk-toggleable__label-arrow\">LinearRegression</label><div class=\"sk-toggleable__content\"><pre>LinearRegression()</pre></div></div></div></div></div>"
      ],
      "text/plain": [
       "LinearRegression()"
      ]
     },
     "execution_count": 13,
     "metadata": {},
     "output_type": "execute_result"
    }
   ],
   "source": [
    "# Train the model\n",
    "\n",
    "lr = LinearRegression()\n",
    "lr.fit(x_train,y_train)"
   ]
  },
  {
   "cell_type": "code",
   "execution_count": 14,
   "metadata": {},
   "outputs": [
    {
     "data": {
      "text/plain": [
       "array([ 9599802.30814366,  3097312.03767996, 12773475.05937586,\n",
       "        3969316.67994641, -3529642.44290895, 25684860.22034073,\n",
       "       61378044.0869026 , 14830701.00932741, 13747311.32179642,\n",
       "       14571255.53640814,  2045106.38353805, 32670849.10520291,\n",
       "       22724916.46784639,  6616098.08255719, 21469829.34360007,\n",
       "        7291270.36083322,   483912.21660768,  1957448.47481819,\n",
       "        6145714.33382425,   119234.03066413,  3786526.86587357,\n",
       "        5579146.53906617,  -559808.63463285, 11430490.54798712,\n",
       "       10967586.37233637,  7293366.06817114,  5689762.21074989,\n",
       "       20447230.64091698,  8051938.98280178,  1581712.11099304,\n",
       "       15732575.15733881,  8172911.7104897 , 32156356.7220488 ,\n",
       "       16920018.24056586, 29999645.22327636, 30039271.4713169 ,\n",
       "        6011519.63875055, 15934592.19763373,   476322.44233212,\n",
       "       18955128.31602105])"
      ]
     },
     "execution_count": 14,
     "metadata": {},
     "output_type": "execute_result"
    }
   ],
   "source": [
    "# Predict the Test\n",
    "\n",
    "y_pred_lr=lr.predict(x_test)\n",
    "y_pred_lr"
   ]
  },
  {
   "cell_type": "markdown",
   "metadata": {},
   "source": [
    "Next, I evaluated the model using R<sup>2</sup> score and F-test (ANOVA).\n",
    "\n",
    "R<sup>2</sup> is the coefficient of determination between the observed y and the predicted y, and the closer the value is to 100%, the better the regression model fits the observation (Frost, 2018). The R<sup>2</sup> value was generated according to GeeksforGeeks R2 score (2020) and Atha (2020)."
   ]
  },
  {
   "cell_type": "code",
   "execution_count": 25,
   "metadata": {},
   "outputs": [
    {
     "name": "stdout",
     "output_type": "stream",
     "text": [
      " Accuracy of the model is 99.03\n"
     ]
    }
   ],
   "source": [
    "# Evaluate the model\n",
    "\n",
    "Accuracy=r2_score(y_test,y_pred_lr)*100\n",
    "print(\" Accuracy of the model is %.2f\" %Accuracy)"
   ]
  },
  {
   "cell_type": "markdown",
   "metadata": {},
   "source": [
    "Results of Multiple Linear Regression shows that the accuracy of the model is 99.03, which means that 99.03% of the data fit the regression model.\n",
    "\n",
    "I can also predict the Final Viable Cell Density at different independent variable values (www.w3schools.com Multiple Regression, n.d.), for example, at 38°C, 65% DO, glucose 10g/L and lactate 5g/L:"
   ]
  },
  {
   "cell_type": "code",
   "execution_count": 59,
   "metadata": {},
   "outputs": [
    {
     "name": "stdout",
     "output_type": "stream",
     "text": [
      "[32220534.0265184]\n"
     ]
    }
   ],
   "source": [
    "predictedfvcde = lr.predict([[38, 65, 10, 5]]) # make predictions on the X_test data (unseen data)\n",
    "# model does not know the statistics on the test data, only on train data\n",
    "\n",
    "print(predictedfvcde) "
   ]
  },
  {
   "cell_type": "markdown",
   "metadata": {},
   "source": [
    "Results show that at 38°C, 65% DO, glucose 10g/L and lactate 5g/L, the predicted Final Viable Cell Density is 3.22x10<sup>7</sup> cells."
   ]
  },
  {
   "cell_type": "code",
   "execution_count": 16,
   "metadata": {},
   "outputs": [
    {
     "data": {
      "image/png": "[encoded data removed]",
      "text/plain": [
       "<Figure size 640x480 with 1 Axes>"
      ]
     },
     "metadata": {},
     "output_type": "display_data"
    }
   ],
   "source": [
    "# Finally, I plotted the results\n",
    "\n",
    "plt.scatter(y_test,y_pred_lr, color ='blue')\n",
    "plt.plot(y_test, y_pred_lr, 'r')\n",
    "plt.legend([\"Observed data\", \"Predicted line\"])\n",
    "plt.show();"
   ]
  },
  {
   "cell_type": "markdown",
   "metadata": {},
   "source": [
    "## Conclusions"
   ]
  },
  {
   "cell_type": "markdown",
   "metadata": {},
   "source": []
  },
  {
   "cell_type": "markdown",
   "metadata": {},
   "source": [
    "## References"
   ]
  },
  {
   "cell_type": "markdown",
   "metadata": {},
   "source": [
    "Reference listAbu-Absi, N.R., Kenty, B.M., Cuellar, M.E., Borys, M.C., Sakhamuri, S., Strachan, D.J., Hausladen, M.C. and Li, Z.J. (2010). Real time monitoring of multiple parameters in mammalian cell culture bioreactors using an in-line Raman spectroscopy probe. Biotechnology and Bioengineering, 108(5), pp.1215–1221. doi:https://doi.org/10.1002/bit.23023.Al-Fageeh, M.B., Marchant, R.J., Carden, M.J. and Smales, C.M. (2006). The cold-shock response in cultured mammalian cells: Harnessing the response for the improvement of recombinant protein production. Biotechnology and Bioengineering, 93(5), pp.829–835. doi:https://doi.org/10.1002/bit.20789.Alhuthali, S., Kotidis, P. and Kontoravdi, C. (2021). Osmolality Effects on CHO Cell Growth, Cell Volume, Antibody Productivity and Glycosylation. International Journal of Molecular Sciences, [online] 22(7), p.3290. doi:https://doi.org/10.3390/ijms22073290.Ali, M. (2023). Python Seaborn Tutorial For Beginners: Start Visualizing Data. [online] Datacamp.com. Available at: https://www.datacamp.com/tutorial/seaborn-python-tutorial [Accessed 21 Nov. 2023].Balakrishnan, N., Castilla, E., Martín, N. and Pardo, L. (2019). Robust Estimators and Test Statistics for One-Shot Device Testing Under the Exponential Distribution. IEEE Transactions on Information Theory, 65(5), pp.3080–3096. doi:https://doi.org/10.1109/tit.2019.2903244.Banghart, M. (n.d.). 3.3 Relationships between continuous and categorical variables | Data Wrangling Essentials. [online] sscc.wisc.edu. Available at: https://sscc.wisc.edu/sscc/pubs/DWE/book/3-3-sect-ggplot-categorical.html [Accessed 21 Nov. 2023].Becerra, S., Berrios, J., Osses, N. and Altamirano, C. (2012). Exploring the effect of mild hypothermia on CHO cell productivity. Biochemical Engineering Journal, 60, pp.1–8. doi:https://doi.org/10.1016/j.bej.2011.10.003.Bevans, R. (2020). Multiple Linear Regression | A Quick and Simple Guide. [online] Scribbr. Available at: https://www.scribbr.com/statistics/multiple-linear-regression/ [Accessed 22 Nov. 2023].Bhatia, S. (2015). Plant Tissue Culture. In: Modern Applications of Plant Biotechnology in Pharmaceutical Sciences. [online] Academic Press. Available at: https://www.sciencedirect.com/book/9780128022214/modern-applications-of-plant-biotechnology-in-pharmaceutical-sciences#book-info [Accessed 14 Nov. 2023].Brunner, M., Doppler, P., Klein, T., Herwig, C. and Fricke, J. (2018). Elevated pCO2\n",
    " affects the lactate metabolic shift in CHO cell culture processes. Engineering in Life Sciences, 18(3), pp.204–214. doi:https://doi.org/10.1002/elsc.201700131.Bruno, T. (2020). Subplotting with matplotlib and seaborn. [online] DEV Community. Available at: https://dev.to/thalesbruno/subplotting-with-matplotlib-and-seaborn-5ei8 [Accessed 19 Nov. 2023].Chan, S.P. (1993). A Statistical Study of Log-Gamma Distribution. [online] macsphere.mcmaster.ca. Available at: https://macsphere.mcmaster.ca/handle/11375/6816 [Accessed 18 Nov. 2023].Chen, B. (2020). Pandas concat() tricks you should know to speed up your data analysis. [online] Medium. Available at: https://towardsdatascience.com/pandas-concat-tricks-you-should-know-to-speed-up-your-data-analysis-cd3d4fdfe6dd [Accessed 21 Nov. 2023].Chen, J., Marvin, A.C., Flintoft, I.D. and Dawson, J.F. (2010). Double-Weibull distributions of the re-emission spectra from a non-linear device in a mode stirred chamber. White Rose Research Online (University of Leeds, The University of Sheffield, University of York). doi:https://doi.org/10.1109/isemc.2010.5711334.Content Lab U.S. (2015). DARZALEX® (daratumumab) Approved by U.S. FDA: First Human Anti-CD38 Monoclonal Antibody Available for the Treatment of Multiple Myeloma | Johnson & Johnson. [online] Available at: https://www.jnj.com/media-center/press-releases/darzalex-daratumumab-approved-by-us-fda-first-human-anti-cd38-monoclonal-antibody-available-for-the-treatment-of-multiple-myeloma [Accessed 13 Nov. 2023].Czirók, A., Schlett, K., MadarászE. and Vicsek, T. (1998). Exponential Distribution of Locomotion Activity in Cell Cultures. Physical Review Letters, 81(14), pp.3038–3041. doi:https://doi.org/10.1103/physrevlett.81.3038.Dabhadkar, M.M., Palekar, S.R. and Pawar, K.N. (2022). A review on ‘monoclonal antibodies: effective treatment against COVID-19’. International Journal of Community Medicine and Public Health, 10(1), pp.525–525. doi:https://doi.org/10.18203/2394-6040.ijcmph20223584.DeLuca, K.F., Mick, J.E. and DeLuca, J.G. (2022). Production and purification of recombinant monoclonal antibodies from human cells based on a primary sequence. STAR protocols, 3(4), pp.101915–101915. doi:https://doi.org/10.1016/j.xpro.2022.101915.Domján, J., Pantea, E., Gyürkés, M., Madarász, L., Kozák, D., Farkas, A., Horváth, B., Benkő, Z., Nagy, Z.K., Marosi, G. and Hirsch, E. (2022). Real‐time amino acid and glucose monitoring system for the automatic control of nutrient feeding in CHO cell culture using Raman spectroscopy. Biotechnology Journal, 17(5), pp.2100395–2100395. doi:https://doi.org/10.1002/biot.202100395.Dowd, J.E., Kwok, K.E. and Piret, J.M. (2001). Glucose-based optimization of CHO-cell perfusion cultures. Biotechnology and Bioengineering, 75(2), pp.252–256. doi:https://doi.org/10.1002/bit.10013.Eberle, C. (2023). Antibody production in CHO cells: Advantages & Disadvantages. [online] evitria.com. Available at: https://www.evitria.com/journal/antibodies/antibody-production-cho-cells-advantages/ [Accessed 12 Nov. 2023].Evin, G., Merleau, J. and Perreault, L. (2011). Two-component mixtures of normal, gamma, and Gumbel distributions for hydrological applications. Water Resources Research, 47(8). doi:https://doi.org/10.1029/2010wr010266.Fan, L., Zhao, L., Ye, Z., Sun, Y., Kou, T., Zhou, Y. and Tan, W.-S. (2010). Effect of culture temperature on TNFR-Fc productivity in recombinant glutamine synthetase-chinese hamster ovary cells. Biotechnology Letters, 32(9), pp.1239–1244. doi:https://doi.org/10.1007/s10529-010-0318-5.Gagnon, M., Hiller, G., Luan, Y.-T., Kittredge, A., DeFelice, J. and Drapeau, D. (2011). High-End pH-controlled delivery of glucose effectively suppresses lactate accumulation in CHO Fed-batch cultures. Biotechnology and Bioengineering, 108(6), pp.1328–1337. doi:https://doi.org/10.1002/bit.23072.GeeksforGeeks. (2019). Python - Log Gamma Distribution in Statistics. [online] Available at: https://www.geeksforgeeks.org/python-log-gamma-distribution-in-statistics/ [Accessed 19 Nov. 2023].Gibbons, L., Maslanka, F., Le, N., Magill, A., Singh, P.K., McLaughlin, J., Madden, F., Hayes, R., McCarthy, B., Rode, C.K., O’Mahony, J., Rea, R. and O’Mahony-Hartnett, C. (2023). An assessment of the impact of Raman based glucose feedback control on CHO cell bioreactor process development. Biotechnology Progress. doi:https://doi.org/10.1002/btpr.3371.Gómez, Y.M., Heleno Bolfarine and Gómez, H.W. (2019). Gumbel distribution with heavy tails and applications to environmental data. Mathematics and Computers in Simulation, 157, pp.115–129. doi:https://doi.org/10.1016/j.matcom.2018.10.003.Great Learning Team (2023). 4 Types Of Data - Nominal, Ordinal, Discrete and Continuous - Great Learning. [online] GreatLearning Blog: Free Resources what Matters to shape your Career! Available at: https://www.mygreatlearning.com/blog/types-of-data/ [Accessed 20 Nov. 2023].Hayes, A. (2023). How Multiple Linear Regression Works. [online] Investopedia. Available at: https://www.investopedia.com/terms/m/mlr.asp [Accessed 22 Nov. 2023].Hippach, M.B., Schwartz, I., Pei, J., Huynh, J., Kawai, Y. and Zhu, M.M. (2018). Fluctuations in dissolved oxygen concentration during a CHO cell culture process affects monoclonal antibody productivity and the sulfhydryl‐drug conjugation process. Biotechnology Progress, 34(6), pp.1427–1437. doi:https://doi.org/10.1002/btpr.2697.Ho, S.C.L., Koh, E.Y.C., van Beers, M., Mueller, M., Wan, C., Teo, G., Song, Z., Yen Wah Tong, Bardor, M. and Yang, Y. (2013). Control of IgG LC:HC ratio in stably transfected CHO cells and study of the impact on expression, aggregation, glycosylation and conformational stability. Journal of Biotechnology, 165(3-4), pp.157–166. doi:https://doi.org/10.1016/j.jbiotec.2013.03.019.Huang, Z., Xu, J., Yongky, A., Morris, C.S., Polanco, A.L., Reily, M., Borys, M.C., Li, Z.J. and Yoon, S. (2020). CHO cell productivity improvement by genome-scale modeling and pathway analysis: Application to feed supplements. Biochemical Engineering Journal, 160, p.107638. doi:https://doi.org/10.1016/j.bej.2020.107638.Hwang, H.-J., Park, B.-W. and Chung, M.-S. (2023). Comparison of microbial reduction effect of intense pulsed light according to growth stage and population density of Escherichia coli ATCC 25922 using a double Weibull model. Food Research International, 164, pp.112353–112353. doi:https://doi.org/10.1016/j.foodres.2022.112353.Hwang, H.-J., Seo, J.-H., Jeong, C., Cheigh, C.-I. and Chung, M.-S. (2019). Analysis of bacterial inactivation by intense pulsed light using a double-Weibull survival model. Innovative Food Science and Emerging Technologies, 56, pp.102185–102185. doi:https://doi.org/10.1016/j.ifset.2019.102185.Jain, E. and Kumar, A. (2008). Upstream processes in antibody production: Evaluation of critical parameters. Biotechnology Advances, [online] 26(1), pp.46–72. Available at: https://www.sciencedirect.com/science/article/abs/pii/S0734975007000985?via%3Dihub [Accessed 13 Nov. 2023].Jenkins, N. and Hovey, A. (1993). Temperature control of growth and productivity in mutant Chinese hamster ovary cells synthesizing a recombinant protein. Biotechnology and Bioengineering, 42(9), pp.1029–1036. doi:https://doi.org/10.1002/bit.260420903.Jennewein, M.F. and Alter, G. (2017). The Immunoregulatory Roles of Antibody Glycosylation. Trends in Immunology, 38(5), pp.358–372. doi:https://doi.org/10.1016/j.it.2017.02.004.Jyothilekshmi, I. and Jayaprakash, N.S. (2021). Trends in Monoclonal Antibody Production Using Various Bioreactor Syst. Journal of Microbiology and Biotechnology, 31(3), pp.349–357. doi:https://doi.org/10.4014/jmb.1911.11066.K, A. (2022). Multiple Linear Regression using Python. [online] Analytics Vidhya. Available at: https://www.analyticsvidhya.com/blog/2022/03/multiple-linear-regression-using-python/ [Accessed 22 Nov. 2023].Kelsey (2013). scipy.stats seed? [online] Stack Overflow. Available at: https://stackoverflow.com/questions/16016959/scipy-stats-seed [Accessed 21 Nov. 2023].Koehrsen, W. (2018). Visualizing Data with Pairs Plots in Python. [online] Medium. Available at: https://towardsdatascience.com/visualizing-data-with-pair-plots-in-python-f228cf529166 [Accessed 21 Nov. 2023].Kou, T.-C., Fan, L., Zhou, Y., Ye, Z.-Y., Liu, X.-P., Zhao, L. and Tan, W.-S. (2011). Detailed understanding of enhanced specific productivity in Chinese hamster ovary cells at low culture temperature. Journal of Bioscience and Bioengineering, 111(3), pp.365–369. doi:https://doi.org/10.1016/j.jbiosc.2010.11.016.Kunert, R. and Reinhart, D. (2016). Advances in recombinant antibody manufacturing. Applied Microbiology and Biotechnology, [online] 100(8), pp.3451–3461. doi:https://doi.org/10.1007/s00253-016-7388-9.Li, F., Vijayasankaran, N., Shen, A. (Yijuan), Kiss, R. and Amanullah, A. (2010). Cell culture processes for monoclonal antibody production. mAbs, [online] 2(5), pp.466–479. doi:https://doi.org/10.4161/mabs.2.5.12720.Li, F., Zhou, J.X., Yang, X., Tressel, T. and Lee, B. (2004). Current Therapeutic Antibody Production and Process Optimization. Bioprocessing Journal. [online] Available at: https://citeseerx.ist.psu.edu/document?repid=rep1&type=pdf&doi=213c35387b580e5c2fa211f414dc5c219557733e [Accessed 13 Nov. 2023].Li, J., Wong, C.L., Vijayasankaran, N., Hudson, T. and Amanullah, A. (2011). Feeding lactate for CHO cell culture processes: Impact on culture metabolism and performance. Biotechnology and Bioengineering, 109(5), pp.1173–1186. doi:https://doi.org/10.1002/bit.24389.Li, M., Ebel, B., Blanchard, F., Paris, C., Guedon, E. and Marc, A. (2019). Control of IgG glycosylation by in situ and real‐time estimation of specific growth rate of CHO cells cultured in bioreactor. Biotechnology and Bioengineering, 116(5), pp.985–993. doi:https://doi.org/10.1002/bit.26914.Li, M., Ebel, B., Chauchard, F., Guédon, E. and Marc, A. (2018a). Parallel comparison of in situ Raman and NIR spectroscopies to simultaneously measure multiple variables toward real-time monitoring of CHO cell bioreactor cultures. Biochemical Engineering Journal, 137, pp.205–213. doi:https://doi.org/10.1016/j.bej.2018.06.005.Li, M.-Y., Ebel, B., Paris, C., Chauchard, F., Guedon, E. and Marc, A. (2018b). Real-time monitoring of antibody glycosylation site occupancy by in situ\n",
    " Raman spectroscopy during bioreactor CHO cell cultures. Biotechnology Progress, 34(2), pp.486–493. doi:https://doi.org/10.1002/btpr.2604.Li, Z.-M., Fan, Z.-L., Wang, X.-Y. and Wang, T.-Y. (2022). Factors Affecting the Expression of Recombinant Protein and Improvement Strategies in Chinese Hamster Ovary Cells. Frontiers in Bioengineering and Biotechnology, 10. doi:https://doi.org/10.3389/fbioe.2022.880155.Liang, K., Luo, H. and Li, Q. (2023). Enhancing and stabilizing monoclonal antibody production by Chinese hamster ovary (CHO) cells with optimized perfusion culture strategies. Frontiers in Bioengineering and Biotechnology, 11. doi:https://doi.org/10.3389/fbioe.2023.1112349.Lipan, O., Jean Marc Navenot, Wang, Z., Huang, L. and Peiper, S.C. (2007). Heat Shock Response in CHO Mammalian Cells Is Controlled by a Nonlinear Stochastic Process. PLOS Computational Biology, 3(10), pp.e187–e187. doi:https://doi.org/10.1371/journal.pcbi.0030187.López-Meza, J., Araíz-Hernández, D., Carrillo-Cocom, L.M., López-Pacheco, F., Rocha-Pizaña, M. del R. and Alvarez, M.M. (2016). Using simple models to describe the kinetics of growth, glucose consumption, and monoclonal antibody formation in naive and infliximab producer CHO cells. Cytotechnology, [online] 68(4), pp.1287–1300. doi:https://doi.org/10.1007/s10616-015-9889-2.Malik, B. and Ghatol, A. (2023). Understanding How Monoclonal Antibodies Work. [online] PubMed. Available at: https://www.ncbi.nlm.nih.gov/books/NBK572118/ [Accessed 13 Nov. 2023].Malloy, G. (2023). How to use distfit package in Python. [online] Medium. Available at: https://blog.devgenius.io/how-to-use-distfit-package-in-python-b5a7b18c5d6c [Accessed 19 Nov. 2023].Markose, S.M. and Alentorn, A. (2005). The Generalized Extreme Value (GEV) Distribution, Implied Tail Index and Option Pricing. [online] ideas.repec.org. Available at: https://repository.essex.ac.uk/3726/ [Accessed 20 Nov. 2023].Martínez-Monge, I., Comas, P., Triquell, J., Casablancas, A., Lecina, M., Paredes, C.J. and Cairó, J.J. (2019). Concomitant consumption of glucose and lactate: A novel batch production process for CHO cells. Biochemical Engineering Journal, 151, p.107358. doi:https://doi.org/10.1016/j.bej.2019.107358.Masayoshi Onitsuka, Kawaguchi, A.T., Asano, R., Kumagai, I., Honda, K., Hisao Ohtake and Takeshi Ômasa (2014). Glycosylation analysis of an aggregated antibody produced by Chinese hamster ovary cells in bioreactor culture. Journal of Bioscience and Bioengineering, 117(5), pp.639–644. doi:https://doi.org/10.1016/j.jbiosc.2013.11.001.Masterton, R.J. and Smales, C.M. (2014). The impact of process temperature on mammalian cell lines and the implications for the production of recombinant proteins in CHO cells. Pharmaceutical Bioprocessing, 2(1), pp.49–61. doi:https://doi.org/10.4155/pbp.14.3.Matplotlib.pyplot.subplots. (n.d.). matplotlib.pyplot.subplots — Matplotlib 3.6.0 documentation. [online] Available at: https://matplotlib.org/stable/api/_as_gen/matplotlib.pyplot.subplots.html [Accessed 19 Nov. 2023].Mayo Clinic (2019). Monoclonal antibody drugs for cancer: How they work. [online] Mayo Clinic. Available at: https://www.mayoclinic.org/diseases-conditions/cancer/in-depth/monoclonal-antibody/art-20047808 [Accessed 13 Nov. 2023].Mayo, M. (2022). How to Determine the Best Fitting Data Distribution Using Python. [online] KDnuggets. Available at: https://www.kdnuggets.com/2021/09/determine-best-fitting-data-distribution-python.html [Accessed 19 Nov. 2023].McHugh, K.P., Xu, J., Aron, K.L., Borys, M.C. and Li, Z.J. (2020). Effective temperature shift strategy development and scale confirmation for simultaneous optimization of protein productivity and quality in Chinese hamster ovary cells. Biotechnology Progress, 36(3). doi:https://doi.org/10.1002/btpr.2959.Meuwly, F., Loviat, F., Ruffieux, P.-A. ., Bernard, A., Kadouri, A. and von Stockar, U. (2006a). Oxygen supply for CHO cells immobilized on a packed-bed of Fibra-Cel® disks. Biotechnology and Bioengineering, 93(4), pp.791–800. doi:https://doi.org/10.1002/bit.20766.Meuwly, F., Papp, F., Ruffieux, P.-A. ., Bernard, A.R., Kadouri, A. and von Stockar, U. (2006b). Use of glucose consumption rate (GCR) as a tool to monitor and control animal cell production processes in packed-bed bioreactors. Journal of Biotechnology, [online] 122(1), pp.122–129. doi:https://doi.org/10.1016/j.jbiotec.2005.08.005.MSD Connect UK. (2022). About KEYTRUDA | KEYTRUDA® (pembrolizumab). [online] Available at: https://www.msdconnect.co.uk/products/keytruda/ [Accessed 13 Nov. 2023].Nascimento, F., Bourguignon, M. and Leão, J. (2015). Extended generalized extreme value distribution with applications in environmental data. Hacettepe Journal of Mathematics and Statistics, 46(95), pp.1–1. doi:https://doi.org/10.15672/hjms.20159514081.Nelamali, N. (2023). Export Pandas to CSV without Index & Header. [online] Spark By {Examples}. Available at: https://sparkbyexamples.com/pandas/pandas-to-csv-no-index/ [Accessed 21 Nov. 2023].Nienow, A.W., Rielly, C.D., Brosnan, K., Bargh, N., Lee, K., Coopman, K. and Hewitt, C.J. (2013). The physical characterisation of a microscale parallel bioreactor platform with an industrial CHO cell line expressing an IgG4. Biochemical Engineering Journal, 76, pp.25–36. doi:https://doi.org/10.1016/j.bej.2013.04.011.Numpy.concatenate. (n.d.). numpy.concatenate — NumPy v1.22 Manual. [online] Available at: https://numpy.org/doc/stable/reference/generated/numpy.concatenate.html [Accessed 20 Nov. 2023].Numpy.org linspace. (n.d.). numpy.linspace — NumPy v1.23 Manual. [online] Available at: https://numpy.org/doc/stable/reference/generated/numpy.linspace.html [Accessed 22 Nov. 2023].Numpy.org random.seed. (n.d.). numpy.random.seed — NumPy v1.21 Manual. [online] Available at: https://numpy.org/doc/stable/reference/random/generated/numpy.random.seed.html [Accessed 21 Nov. 2023].Numpy.org reshape. (n.d.). numpy.reshape — NumPy v1.20 Manual. [online] Available at: https://numpy.org/doc/stable/reference/generated/numpy.reshape.html [Accessed 22 Nov. 2023].Numpy.random.exponential. (n.d.). numpy.random.exponential — NumPy v1.21 Manual. [online] Available at: https://numpy.org/doc/stable/reference/random/generated/numpy.random.exponential.html.Numpy.random.gumbel. (n.d.). numpy.random.gumbel — NumPy v2.0.dev0 Manual. [online] Available at: https://numpy.org/devdocs/reference/random/generated/numpy.random.gumbel.html [Accessed 19 Nov. 2023].Okamura, K., Badr, S., Murakami, S. and Sugiyama, H. (2022). Hybrid Modeling of CHO Cell Cultivation in Monoclonal Antibody Production with an Impurity Generation Module. Industrial & Engineering Chemistry Research, 61(40), pp.14898–14909. doi:https://doi.org/10.1021/acs.iecr.2c00736.Ozturk, S.S., Thrift, J.C., Blackie, J.D. and Naveh, D. (1997). Real-time monitoring and control of glucose and lactate concentrations in a mammalian cell perfusion reactor. Biotechnology and Bioengineering, 53(4), pp.372–378. doi:https://doi.org/10.1002/(sici)1097-0290(19970220)53:4%3C372::aid-bit3%3E3.0.co;2-k.pandas.pydata.org boxplot. (n.d.). pandas.DataFrame.boxplot — pandas 1.3.4 documentation. [online] Available at: https://pandas.pydata.org/docs/reference/api/pandas.DataFrame.boxplot.html [Accessed 21 Nov. 2023].Pandas.pydata.org concat. (n.d.). pandas.concat — pandas 1.3.4 documentation. [online] Available at: https://pandas.pydata.org/docs/reference/api/pandas.concat.html [Accessed 20 Nov. 2023].Pandas.pydata.org DataFrame.corr. (n.d.). pandas.DataFrame.corr — pandas 1.3.2 documentation. [online] Available at: https://pandas.pydata.org/docs/reference/api/pandas.DataFrame.corr.html [Accessed 21 Nov. 2023].Pandas.pydata.org DataFrame.to_csv. (n.d.). pandas.DataFrame.to_csv — pandas 1.2.4 documentation. [online] Available at: https://pandas.pydata.org/docs/reference/api/pandas.DataFrame.to_csv.html [Accessed 20 Nov. 2023].Pandas.pydata.org to_numpy. (n.d.). pandas.DataFrame.to_numpy — pandas 1.2.3 documentation. [online] Available at: https://pandas.pydata.org/docs/reference/api/pandas.DataFrame.to_numpy.html [Accessed 22 Nov. 2023].Pandas.pydata.org. (n.d.). pandas.DataFrame.describe — pandas 1.3.4 documentation. [online] Available at: https://pandas.pydata.org/docs/reference/api/pandas.DataFrame.describe.html [Accessed 19 Nov. 2023].Pérez-Rodriguez, S., Ramírez-Lira, M. de J., Trujillo-Roldán, M.A. and Valdez-Cruz, N.A. (2020). Nutrient supplementation strategy improves cell concentration and longevity, monoclonal antibody production and lactate metabolism of Chinese hamster ovary cells. Bioengineered, 11(1), pp.463–471. doi:https://doi.org/10.1080/21655979.2020.1744266.Pharmaceutical Technology. (2003). Chugai Pharmaceutical Bulk Antibody. [online] Available at: https://www.pharmaceutical-technology.com/projects/chugay/?cf-view [Accessed 16 Nov. 2023].Ranjan, S. (2018). Python | Pandas dataframe.info(). [online] GeeksforGeeks. Available at: https://www.geeksforgeeks.org/python-pandas-dataframe-info/ [Accessed 19 Nov. 2023].Raoniar, R. (2022). Finding the Best Distribution that Fits Your Data using Python’s Fitter Library. [online] The Researchers’ Guide. Available at: https://medium.com/the-researchers-guide/finding-the-best-distribution-that-fits-your-data-using-pythons-fitter-library-319a5a0972e9 [Accessed 19 Nov. 2023].Real Python (2019). Linear Regression in Python. [online] Realpython.com. Available at: https://realpython.com/linear-regression-in-python/ [Accessed 22 Nov. 2023].Reddy, J.V., Raudenbush, K., Papoutsakis, E.T. and Ierapetritou, M.G. (2023). Cell-culture process optimization via model-based predictions of metabolism and protein glycosylation. Biotechnology Advances, 67, pp.108179–108179. doi:https://doi.org/10.1016/j.biotechadv.2023.108179.Restelli, V., Wang, M.-D., Huzel, N., Ethier, M., Perreault, H. and Butler, M. (2006). The effect of dissolved oxygen on the production and the glycosylation profile of recombinant human erythropoietin produced from CHO cells. Biotechnology and Bioengineering, 94(3), pp.481–494. doi:https://doi.org/10.1002/bit.20875.Rodrigues, M.E., Costa, A.R., Henriques, M., Azeredo, J. and Oliveira, R. (2009). Technological progresses in monoclonal antibody production systems. Biotechnology Progress, p.NA-NA. doi:https://doi.org/10.1002/btpr.348.Rowland‐Jones, R.C. and Jaques, C. (2018). At‐line raman spectroscopy and design of experiments for robust monitoring and control of miniature bioreactor cultures. Biotechnology Progress, 35(2), p.e2740. doi:https://doi.org/10.1002/btpr.2740.Schofield, D. (2023). Monoclonal antibody production: Process, Technologies & Steps. [online] evitria. Available at: https://www.evitria.com/journal/monoclonal-antibodies/monoclonal-antibody-production/?utm_term=&utm_campaign=DSA+Journal+evitria.com&utm_source=adwords&utm_medium=ppc&hsa_acc=5241823564&hsa_cam=12420631398&hsa_grp=117890023163&hsa_ad=500902445910&hsa_src=g&hsa_tgt=dsa-468439974237&hsa_kw=&hsa_mt=&hsa_net=adwords&hsa_ver=3&gclid=Cj0KCQiAr8eqBhD3ARIsAIe-buPw5xlTj0JoRyBKNJ9mfQpyi7T6fIiYX6oJOphf2aJnYoHwOld0cUgaAptFEALw_wcB [Accessed 13 Nov. 2023].Scikit-learn (2018). sklearn.model_selection.train_test_split — scikit-learn 0.20.3 documentation. [online] Scikit-learn.org. Available at: https://scikit-learn.org/stable/modules/generated/sklearn.model_selection.train_test_split.html [Accessed 22 Nov. 2023].Scikit-learn Developers (2019). sklearn.linear_model.LinearRegression — scikit-learn 0.22 documentation. [online] Scikit-learn.org. Available at: https://scikit-learn.org/stable/modules/generated/sklearn.linear_model.LinearRegression.html [Accessed 22 Nov. 2023].Scikit-learn.org r2_score. (n.d.). sklearn.metrics.r2_score — scikit-learn 0.24.1 documentation. [online] Available at: https://scikit-learn.org/stable/modules/generated/sklearn.metrics.r2_score.html [Accessed 22 Nov. 2023].Scipy.stats.dweibull. (n.d.). scipy.stats.dweibull — SciPy v1.11.3 Manual. [online] Available at: https://docs.scipy.org/doc/scipy/reference/generated/scipy.stats.dweibull.html [Accessed 19 Nov. 2023].Scipy.stats.expon. (n.d.). scipy.stats.expon — SciPy v1.11.4 Manual. [online] Available at: https://docs.scipy.org/doc/scipy/reference/generated/scipy.stats.expon.html [Accessed 19 Nov. 2023].Scipy.stats.genextreme. (n.d.). scipy.stats.genextreme — SciPy v1.10.0 Manual. [online] Available at: https://docs.scipy.org/doc/scipy/reference/generated/scipy.stats.genextreme.html [Accessed 20 Nov. 2023].Scipy.stats.loggamma. (n.d.). scipy.stats.loggamma — SciPy v1.11.4 Manual. [online] Available at: https://docs.scipy.org/doc/scipy/reference/generated/scipy.stats.loggamma.html [Accessed 19 Nov. 2023].SciSpace - Question. (n.d.). What are some applications of the Log Gamma distribution? | 5 Answers from Research papers. [online] Available at: https://typeset.io/questions/what-are-some-applications-of-the-log-gamma-distribution-5ej6xn5isn [Accessed 18 Nov. 2023].Seaborn.pydata.org violinplot. (n.d.). seaborn.violinplot — seaborn 0.10.1 documentation. [online] Available at: https://seaborn.pydata.org/generated/seaborn.violinplot.html [Accessed 21 Nov. 2023].seaborn.pydata.org. (n.d.). Scatterplot with continuous hues and sizes — seaborn 0.13.0 documentation. [online] Available at: https://seaborn.pydata.org/examples/scatterplot_sizes.html [Accessed 21 Nov. 2023].Siddiquee, K., Zhao, C., Stemler, M.A., Zeck, B., Fishpaugh, J.R. and Allen, S.P. (2019). Cell-culture growth conditions resulting in the oxidation of a recombinant antigen-binding fragment. Bioresources and Bioprocessing, 6(1). doi:https://doi.org/10.1186/s40643-019-0270-8.Singh, N., Arunkumar, A., Chollangi, S., Tan, Z.G., Borys, M. and Li, Z.J. (2015). Clarification technologies for monoclonal antibody manufacturing processes: Current state and future perspectives. Biotechnology and Bioengineering, 113(4), pp.698–716. doi:https://doi.org/10.1002/bit.25810.Son, H.-J. and Woo, J.-S. (2009). Estimations in a Skewed Double Weibull Distribution. Communications for Statistical Applications and Methods, 16(5), pp.859–870. doi:https://doi.org/10.5351/ckss.2009.16.5.859.Stack Overflow. (2018). How to show the title for the diagram of Seaborn pairplot() or PridGrid(). [online] Available at: https://stackoverflow.com/questions/36813396/how-to-show-the-title-for-the-diagram-of-seaborn-pairplot-or-pridgrid [Accessed 21 Nov. 2023].Stack Overflow. (2023). Creating violin plots for different groups and using two different y-axis. [online] Available at: https://stackoverflow.com/questions/76183777/creating-violin-plots-for-different-groups-and-using-two-different-y-axis [Accessed 21 Nov. 2023].Statistics Solutions (2021). Pearson’s Correlation Coefficient. [online] Statistics Solutions. Available at: https://www.statisticssolutions.com/free-resources/directory-of-statistical-analyses/pearsons-correlation-coefficient/ [Accessed 21 Nov. 2023].Steinhoff, R.F., Karst, D.J., Steinebach, F., Kopp, M.R.G., Schmidt, G.W., Stettler, A., Krismer, J., Soos, M., Pabst, M., Hierlemann, A., Morbidelli, M. and Zenobi, R. (2016). Microarray-based MALDI-TOF mass spectrometry enables monitoring of monoclonal antibody production in batch and perfusion cell cultures. Methods, [online] 104, pp.33–40. doi:https://doi.org/10.1016/j.ymeth.2015.12.011.Stett, A., Burkhardt, C., Weber, U., van Stiphout, P. and Knott, T. (2003). C YTOCENTERING : A Novel Technique Enabling Automated Cell-by-Cell Patch Clamping with the C YTO P ATCH TM Chip. Receptors and Channels, 9(1), pp.59–66. doi:https://doi.org/10.1080/10606820308254.Sunley, K., Tharmalingam, T. and Butler, M. (2008). CHO cells adapted to hypothermic growth produce high yields of recombinant β-interferon. Biotechnology Progress, 24(4), pp.898–906. doi:https://doi.org/10.1002/btpr.9.Tang, P., Xu, J., Louey, A., Tan, Z., Yongky, A., Liang, S., Li, Z.J., Weng, Y. and Liu, S. (2020). Kinetic modeling of Chinese hamster ovary cell culture: factors and principles. Critical Reviews in Biotechnology, 40(2), pp.265–281. doi:https://doi.org/10.1080/07388551.2019.1711015.Taskesen, E. (2020a). Parameter fitting — distfit distfit documentation. [online] erdogant.github.io. Available at: https://erdogant.github.io/distfit/pages/html/Performance.html [Accessed 19 Nov. 2023].Taskesen, E. (2020b). Parametric — distfit distfit documentation. [online] erdogant.github.io. Available at: https://erdogant.github.io/distfit/pages/html/Parametric.html#distributions [Accessed 19 Nov. 2023].Vázquez-Rey, M. and Lang, D.A. (2011). Aggregates in monoclonal antibody manufacturing processes. Biotechnology and Bioengineering, 108(7), pp.1494–1508. doi:https://doi.org/10.1002/bit.23155.Vergara, M., Becerra, S., Berrios, J., Osses, N., Reyes, J., Rodríguez-Moyá, M., Gonzalez, R. and Altamirano, C. (2014). Differential Effect of Culture Temperature and Specific Growth Rate on CHO Cell Behavior in Chemostat Culture. PLoS ONE, 9(4), p.e93865. doi:https://doi.org/10.1371/journal.pone.0093865.Vergara, M., Torres, M., Müller, A., Avello, V., Acevedo, C., Berrios, J., Reyes, J.G., Valdez-Cruz, N.A. and Altamirano, C. (2018). High glucose and low specific cell growth but not mild hypothermia improve specific r-protein productivity in chemostat culture of CHO cells. PLOS ONE, 13(8), p.e0202098. doi:https://doi.org/10.1371/journal.pone.0202098.Whelan, J., Craven, S. and Glennon, B. (2012). In situ Raman spectroscopy for simultaneous monitoring of multiple process parameters in mammalian cell culture bioreactors. Biotechnology Progress, 28(5), pp.1355–1362. doi:https://doi.org/10.1002/btpr.1590.Wikipedia Contributors (2019a). Pearson correlation coefficient. [online] Wikipedia. Available at: https://en.wikipedia.org/wiki/Pearson_correlation_coefficient [Accessed 21 Nov. 2023].Wikipedia Contributors (2019b). Scatter plot. [online] Wikipedia. Available at: https://en.wikipedia.org/wiki/Scatter_plot [Accessed 21 Nov. 2023].Wikipedia Exponential distribution. (2020). Exponential distribution. [online] Available at: https://en.wikipedia.org/wiki/Exponential_distribution [Accessed 19 Nov. 2023].Wikipedia Violin Plot. (2020). Violin plot. [online] Available at: https://en.wikipedia.org/wiki/Violin_plot [Accessed 21 Nov. 2023].Wikipedia. (2023). Generalized extreme value distribution. [online] Available at: https://en.wikipedia.org/wiki/Generalized_extreme_value_distribution#Related_distributions [Accessed 19 Nov. 2023].www.cancerresearchuk.org. (2021). Monoclonal antibodies (MABs) | Immunotherapy | Cancer Research UK. [online] Available at: https://www.cancerresearchuk.org/about-cancer/treatment/immunotherapy/types/monoclonal-antibodies [Accessed 13 Nov. 2023].www.jmp.com Scatter Plot. (n.d.). Scatter Plot. [online] Available at: https://www.jmp.com/en_be/statistics-knowledge-portal/exploratory-data-analysis/scatter-plot.html [Accessed 21 Nov. 2023].www.pfizer.com. (2020). Pfizer Brings Three New Biosimilars to U.S. Patients at Substantial Discounts | Pfizer. [online] Available at: https://www.pfizer.com/pfizer-brings-three-new-biosimilars-us-patients-substantial-discounts [Accessed 13 Nov. 2023].www.tutorialandexample.com. (2023). Log Gamma Distribution in Statistics using Python - TAE. [online] Available at: https://www.tutorialandexample.com/log-gamma-distribution-in-statistics-using-python [Accessed 19 Nov. 2023].Xu, J., Tang, P., Yongky, A., Drew, B., Borys, M.C., Liu, S. and Li, Z.J. (2019). Systematic development of temperature shift strategies for Chinese hamster ovary cells based on short duration cultures and kinetic modeling. mAbs, [online] 11(1), pp.191–204. doi:https://doi.org/10.1080/19420862.2018.1525262.Yi, M. (2021). A Complete Guide to Violin Plots. [online] Chartio. Available at: https://chartio.com/learn/charts/violin-plot-complete-guide/ [Accessed 21 Nov. 2023].Yoon, S.K., Hong, J.K., Choo, S.H., Song, J.Y., Park, H.W. and Lee, G.M. (2006). Adaptation of Chinese hamster ovary cells to low culture temperature: Cell growth and recombinant protein production. Journal of Biotechnology, [online] 122(4), pp.463–472. doi:https://doi.org/10.1016/j.jbiotec.2005.09.010.Zagari, F., Jordan, M., Stettler, M., Broly, H. and Wurm, F.M. (2013). Lactate metabolism shift in CHO cell culture: the role of mitochondrial oxidative activity. New Biotechnology, 30(2), pp.238–245. doi:https://doi.org/10.1016/j.nbt.2012.05.021.Zakrzewski, R., Lee, K. and Lye, G.J. (2022). Development of a miniature bioreactor model to study the impact of pH and DOT fluctuations on CHO cell culture performance as a tool to understanding heterogeneity effects at large-scale. Biotechnology Progress, [online] 38(4), p.e3264. doi:https://doi.org/10.1002/btpr.3264.Zavala-Ortiz, D., Ebel, B., Li, M., Barradas-Dermitz, D., Hayward‐Jones, P.M., Aguilar‐Uscanga, M.G., Marc, A. and Guédon, E. (2019). Interest of locally weighted regression to overcome nonlinear effects during in situ NIR monitoring of CHO cell culture parameters and antibody glycosylation. Biotechnology Progress, 36(1). doi:https://doi.org/10.1002/btpr.2924.Zhao, Y., Xing, J., Xing, J.Z., Ang, W.T. and Chen, J. (2014). Applications of low-intensity pulsed ultrasound to increase monoclonal antibody production in CHO cells using shake flasks or wavebags. Ultrasonics, 54(6), pp.1439–1447. doi:https://doi.org/10.1016/j.ultras.2014.04.025.Zhou, M., Crawford, Y., Ng, D., Tung, J., Pynn, A.F.J., Meier, A., Yuk, I.H., Vijayasankaran, N., Leach, K., Joly, J., Snedecor, B. and Shen, A. (2011). Decreasing lactate level and increasing antibody production in Chinese Hamster Ovary cells (CHO) by reducing the expression of lactate dehydrogenase and pyruvate dehydrogenase kinases. Journal of Biotechnology, 153(1), pp.27–34. doi:https://doi.org/10.1016/j.jbiotec.2011.03.003.Zhu, M.M., Goyal, A., Rank, D.L., Gupta, S.K., Boom, T.V. and Lee, S.S. (2005). Effects of Elevated pCO2 and Osmolality on Growth of CHO Cells and Production of Antibody-Fusion Protein B1: A Case Study. Biotechnology Progress, 21(1), pp.70–77. doi:https://doi.org/10.1021/bp049815s."
   ]
  },
  {
   "cell_type": "markdown",
   "metadata": {
    "vscode": {
     "languageId": "plaintext"
    }
   },
   "source": [
    "***\n",
    "\n",
    "## End of Project 1"
   ]
  }
 ],
 "metadata": {
  "kernelspec": {
   "display_name": "base_3.11",
   "language": "python",
   "name": "python3"
  },
  "language_info": {
   "codemirror_mode": {
    "name": "ipython",
    "version": 3
   },
   "file_extension": ".py",
   "mimetype": "text/x-python",
   "name": "python",
   "nbconvert_exporter": "python",
   "pygments_lexer": "ipython3",
   "version": "3.11.5"
  }
 },
 "nbformat": 4,
 "nbformat_minor": 2
}

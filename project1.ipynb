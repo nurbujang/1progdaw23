{
 "cells": [
  {
   "cell_type": "markdown",
   "metadata": {},
   "source": [
    "# Project 1 Programming for Data Analysis Winter 2023 \n",
    "\n",
    "**Author: Nur Bujang**\n",
    "\n",
    "project1.ipynb\n",
    "***"
   ]
  },
  {
   "cell_type": "markdown",
   "metadata": {
    "vscode": {
     "languageId": "plaintext"
    }
   },
   "source": [
    "## **Project Title: Optimization of CHO Cell Culture in Bioreactors**\n",
    "\n",
    "## Project Description:\n",
    "> Using numpy.random package, generate at least one-hundred data points across at least four different variables. Synthesise/simulate a data set as closely matching their properties as possible.\n",
    "\n",
    ">  Investigate the types of variables involved, their likely distributions, and their relationships with each other. Figure out what the variable should look like, the type of distribution for each, and relationship between the variable (what is the reasonable model of the real-world phenomenon, and how it would be distributed).\n",
    "\n",
    "> Detail your research and implement the simulation in a Jupyter notebook – the data set itself can simply be displayed in an output cell within the notebook.\n",
    "\n",
    "> The README need only contain an explanation of what is contained in the repository and how to run the Jupyter notebook. \n",
    "\n",
    "> The notebook should contain the main body of work and should list all references used in completing the project."
   ]
  },
  {
   "cell_type": "markdown",
   "metadata": {
    "vscode": {
     "languageId": "plaintext"
    }
   },
   "source": [
    "## Background"
   ]
  },
  {
   "cell_type": "markdown",
   "metadata": {},
   "source": [
    "### Monoclonal Antibodies\n",
    "\n",
    "Monoclonal antibodies (mAbs) are the most profitable therapeutic proteins on the market (Ho et al., 2013). Some examples of mAbs are DARZALEX® (daratumumab) by Johnson & Johnson for multiple myeloma (Content Lab U.S., 2015), ZIRABEV™ (bevacizumab-bvzr), RUXIENCE™ (rituximab-pvvr) and TRAZIMERA™ (trastuzumab-qyyp) by Pfizer for cancer (www.pfizer.com, 2020) and  KEYTRUDA® (pembrolizumab) by Merck Sharp & Dohme (MSD) for cancer treatment (MSD Connect UK, 2022). MAbs are highly specific and each only binds to a specific protein on a cell (www.cancerresearchuk.org, 2021). Depending on the target protein, it will either attack cancer cells directly, flag cancer cells for destruction by the body's immune system or deliver toxins straight to cancer cells (Mayo Clinic, 2019, Malik and Ghatol, 2023). Patient therapy requires high doses of mAbs over a long period of time (Li et al., 2004).\n",
    "\n",
    "### Monoclonal Antibody Production Technologies\n",
    "\n",
    "According to Schofield (2023), current commercial mAb manufacturing methods are hybridoma technique, phage display, single B cell technology and recombinant DNA technology, with the latter being the most popular. Recombinant monoclonal antibody mass-production involves inserting select functional gene regions into expression vector into mammalian or bacterial cell cultures (Schofield, 2023). \n",
    "\n",
    "Recently, DeLuca, Mick and DeLuca (2022) reported a method to produce recombinant monoclonal antibodies from human cells at a considerably low cost. However, currently, the most popular choice for recombinant mAb production are Chinese Hamster Ovary (CHO cells) mammalian cells due to their ability to produce complex proteins with post-translational modifications, high productivity and ease-of-use in large scale cell culture (Eberle, 2023). \n",
    "\n",
    "### Large-scale Recombinant Monoclonal Antibody Manufacturing Process\n",
    "\n",
    "According to Vázquez-Rey and Lang (2011), a standard recombinant mAb manufacturing process using mammalian cell culture includes growing seed culture (inoculum) in fermentation tanks, followed by large-scale production of up to 20,000 L in bioreactors, cell harvest/primary recovery, product purification and finally product formulation. \n",
    "\n",
    "Because of the increasing demand in human and animal therapy, new strategies and technologies are continually being developed to maximize cell culture productivity (Rodrigues et al., 2009, Singh et al., 2015, Kunert and Reinhart, 2016). This includes nigger, upgraded bioreactors, (Rodrigues et al., 2009)\n",
    "\n",
    "### Raman Spectroscopy\n",
    "\n",
    "in-situ \n",
    "\n",
    "uses laser beam to collect signal\n",
    "\n",
    "(Abu-Absi et al., 2010)\n",
    "\n",
    "(Whelan, Craven and Glennon, 2012)\n",
    "\n",
    "(Rowland‐Jones and Jaques, 2018)\n",
    "\n",
    "(Li et al., 2018b)\n",
    "\n",
    "(Li et al., 2018a)\n",
    "### Optimization of CHO Cell Culture Productivity in Bioreactors\n",
    "\n",
    "Factors that affact cell production\n",
    "\n",
    "\n",
    "\n",
    "maintain cell line viability, optimize and monitor product integrity, and maximize yield. \n",
    "\n",
    "(Mason et al., 2012)\n",
    "\n",
    "(Ahmadi et al., 2017)\n",
    "\n",
    "(Alhuthali and Kontoravdi, 2022)\n",
    "\n",
    "(Moore et al., 2023)\n",
    "\n",
    "(Okamura et al., 2022)\n",
    "\n",
    "(Pan et al., 2017)\n",
    "\n",
    "(Pérez-Rodriguez et al., 2020)\n",
    "\n",
    "(Weng et al., 2020)"
   ]
  },
  {
   "cell_type": "code",
   "execution_count": null,
   "metadata": {
    "vscode": {
     "languageId": "plaintext"
    }
   },
   "outputs": [],
   "source": []
  },
  {
   "cell_type": "markdown",
   "metadata": {
    "vscode": {
     "languageId": "plaintext"
    }
   },
   "source": [
    "## Method"
   ]
  },
  {
   "cell_type": "markdown",
   "metadata": {
    "vscode": {
     "languageId": "plaintext"
    }
   },
   "source": [
    "Variables and data types:\n"
   ]
  },
  {
   "cell_type": "code",
   "execution_count": null,
   "metadata": {
    "vscode": {
     "languageId": "plaintext"
    }
   },
   "outputs": [],
   "source": []
  },
  {
   "cell_type": "code",
   "execution_count": null,
   "metadata": {
    "vscode": {
     "languageId": "plaintext"
    }
   },
   "outputs": [],
   "source": []
  },
  {
   "cell_type": "markdown",
   "metadata": {
    "vscode": {
     "languageId": "plaintext"
    }
   },
   "source": [
    "## Results and Discussion"
   ]
  },
  {
   "cell_type": "markdown",
   "metadata": {
    "vscode": {
     "languageId": "plaintext"
    }
   },
   "source": []
  },
  {
   "cell_type": "code",
   "execution_count": null,
   "metadata": {
    "vscode": {
     "languageId": "plaintext"
    }
   },
   "outputs": [],
   "source": []
  },
  {
   "cell_type": "code",
   "execution_count": null,
   "metadata": {
    "vscode": {
     "languageId": "plaintext"
    }
   },
   "outputs": [],
   "source": []
  },
  {
   "cell_type": "markdown",
   "metadata": {},
   "source": [
    "## Conclusion"
   ]
  },
  {
   "cell_type": "markdown",
   "metadata": {},
   "source": []
  },
  {
   "cell_type": "markdown",
   "metadata": {},
   "source": [
    "## References"
   ]
  },
  {
   "cell_type": "markdown",
   "metadata": {},
   "source": [
    "Ahmadi, S., Davami, F., Davoudi, N., Nematpour, F., Ahmadi, M., Ebadat, S., Azadmanesh, K., Barkhordari, F. and Mahboudi, F. (2017). Monoclonal antibodies expression improvement in CHO cells by PiggyBac transposition regarding vectors ratios and design. PLOS ONE, 12(6), p.e0179902. doi:https://doi.org/10.1371/journal.pone.0179902.\n",
    "\n",
    "Alhuthali, S. and Kontoravdi, C. (2022). Population balance modelling captures host cell protein dynamics in CHO cell cultures. PLOS ONE, 17(3), p.e0265886. doi:https://doi.org/10.1371/journal.pone.0265886.\n",
    "\n",
    "Moore, B., Georgakis, C., Antoniou, C. and Khattak, S. (2023). A Two-Phase Approach Optimizing Productivity for a mAb-producing CHO Cell Culture Process Using Dynamic Response Surface Methodology Models. Biochemical Engineering Journal, [online] 201, p.109137. doi:https://doi.org/10.1016/j.bej.2023.109137.\n",
    "\n",
    "Okamura, K., Badr, S., Murakami, S. and Sugiyama, H. (2022). Hybrid Modeling of CHO Cell Cultivation in Monoclonal Antibody Production with an Impurity Generation Module. Industrial & Engineering Chemistry Research, 61(40), pp.14898–14909. doi:https://doi.org/10.1021/acs.iecr.2c00736.\n",
    "\n",
    "Pan, X., Dalm, C., Wijffels, R.H. and Martens, D.E. (2017). Metabolic characterization of a CHO cell size increase phase in fed-batch cultures. Applied Microbiology and Biotechnology, 101(22), pp.8101–8113. doi:https://doi.org/10.1007/s00253-017-8531-y.\n",
    "\n",
    "Pérez-Rodriguez, S., Ramírez-Lira, M. de J., Trujillo-Roldán, M.A. and Valdez-Cruz, N.A. (2020). Nutrient supplementation strategy improves cell concentration and longevity, monoclonal antibody production and lactate metabolism of Chinese hamster ovary cells. Bioengineered, 11(1), pp.463–471. doi:https://doi.org/10.1080/21655979.2020.1744266.\n",
    "\n",
    "Weng, Z., Jin, J., Shao, C. and Li, H. (2020). Reduction of charge variants by CHO cell culture process optimization. Cytotechnology, 72(2), pp.259–269. doi:https://doi.org/10.1007/s10616-020-00375-x."
   ]
  },
  {
   "cell_type": "markdown",
   "metadata": {
    "vscode": {
     "languageId": "plaintext"
    }
   },
   "source": [
    "***\n",
    "\n",
    "## End of Project 1"
   ]
  }
 ],
 "metadata": {
  "language_info": {
   "name": "python"
  }
 },
 "nbformat": 4,
 "nbformat_minor": 2
}

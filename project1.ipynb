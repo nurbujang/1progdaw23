{
 "cells": [
  {
   "cell_type": "markdown",
   "metadata": {},
   "source": [
    "# Project 1 Programming for Data Analysis Winter 2023 \n",
    "\n",
    "**Author: Nur Bujang**\n",
    "\n",
    "project1.ipynb\n",
    "***"
   ]
  },
  {
   "cell_type": "markdown",
   "metadata": {
    "vscode": {
     "languageId": "plaintext"
    }
   },
   "source": [
    "## **Project Title: Optimization of CHO Cell Culture in Bioreactors**\n",
    "\n",
    "### Project Description:\n",
    "> Using numpy.random package, generate at least one-hundred data points across at least four different variables. Synthesise/simulate a data set as closely matching their properties as possible.\n",
    "\n",
    ">  Investigate the types of variables involved, their likely distributions, and their relationships with each other. Figure out what the variable should look like, the type of distribution for each, and relationship between the variable (what is the reasonable model of the real-world phenomenon, and how it would be distributed).\n",
    "\n",
    "> Detail your research and implement the simulation in a Jupyter notebook – the data set itself can simply be displayed in an output cell within the notebook.\n",
    "\n",
    "> The README need only contain an explanation of what is contained in the repository and how to run the Jupyter notebook. \n",
    "\n",
    "> The notebook should contain the main body of work and should list all references used in completing the project."
   ]
  },
  {
   "cell_type": "markdown",
   "metadata": {
    "vscode": {
     "languageId": "plaintext"
    }
   },
   "source": [
    "## Background"
   ]
  },
  {
   "cell_type": "markdown",
   "metadata": {},
   "source": [
    "### Monoclonal Antibodies\n",
    "\n",
    "Monoclonal antibodies (mAbs) are the most profitable therapeutic proteins on the market (Ho et al., 2013). Some examples of mAbs are DARZALEX® (daratumumab) by Johnson & Johnson for multiple myeloma (Content Lab U.S., 2015), ZIRABEV™ (bevacizumab-bvzr), RUXIENCE™ (rituximab-pvvr) and TRAZIMERA™ (trastuzumab-qyyp) by Pfizer for cancer (www.pfizer.com, 2020) and  KEYTRUDA® (pembrolizumab) by Merck Sharp & Dohme (MSD) for cancer treatment (MSD Connect UK, 2022). MAbs are highly specific and each only binds to a specific protein on a cell (www.cancerresearchuk.org, 2021). Depending on the target protein, it will either attack cancer cells directly, flag cancer cells for destruction by the body's immune system or deliver toxins straight to cancer cells (Mayo Clinic, 2019, Malik and Ghatol, 2023). Patient therapy requires high doses of mAbs over a long period of time (Li et al., 2004).\n",
    "\n",
    "### Monoclonal Antibody Production Technologies\n",
    "\n",
    "According to Schofield (2023), current commercial mAb manufacturing methods are hybridoma technique, phage display, single B cell technology and recombinant DNA technology, with the latter being the most popular. Recombinant monoclonal antibody mass-production involves inserting select functional gene regions into expression vector into mammalian or bacterial cell cultures (Schofield, 2023). \n",
    "\n",
    "Recently, DeLuca, Mick and DeLuca (2022) reported a method to produce recombinant monoclonal antibodies from human cells at a considerably low cost. However, currently, the currently preferred host for recombinant mAb production are Chinese Hamster Ovary (CHO cells) mammalian cells due to their ability to produce complex proteins with post-translational modifications, high productivity and ease-of-use in large scale cell culture (Eberle, 2023). \n",
    "\n",
    "### Large-scale Recombinant Monoclonal Antibody Manufacturing Process\n",
    "\n",
    "According to Vázquez-Rey and Lang (2011), a standard recombinant mAb manufacturing process using mammalian cell culture includes growing seed culture (inoculum) in fermentation tanks, followed by large-scale production of up to 20,000 L in bioreactors, cell harvest/primary recovery, product purification and finally product formulation. \n",
    "\n",
    "Because of the increasing demand in human and animal therapy, new strategies and technologies are continually being developed to maximize cell culture productivity (Rodrigues et al., 2009, Singh et al., 2015, Kunert and Reinhart, 2016). This includes upgraded bioreactors with higher capacities (Rodrigues et al., 2009), disposable bioreactors (Zhao et al., 2014) and advances in proteomics to produce high quality mAbs (Steinhoff et al., 2016, Jyothilekshmi and Jayaprakash, 2021). \n",
    "\n",
    "### Optimization of CHO Cell Culture Conditions in Bioreactors\n",
    "\n",
    "According to Rodrigues et al. (2009), factors that affect cell production are temperature, pH, osmolality, dissolved oxygen, carbon dioxide (CO<sub>2</sub>), nutrient and metabolites concentration. Optimized temperature, pH, dissolved oxygen, CO<sub>2</sub> and nutrient and metabolites concentration are growth factors for CHO cells while high osmolality and lactate inhibit cell growth. Attributes of specific protein productivity include cell size, cell volume and viable cell density (Alhuthali, Kotidis and Kontoravdi, 2021). \n",
    "\n",
    "It is crucial for these culture conditions to be optimized to maintain a consistent glycosylation profile, which is a critical protein quality trait to ensure proper protein conformation and maintain product integrity and efficacy (Masayoshi Onitsuka et al., 2014, Jennewein and Alter, 2017, Li et al., 2010, 2019, 2022, Reddy et al., 2023).\n",
    "\n",
    "While Li et al. (2022) stressed the importance of optimization throughout all stages of genetic modification, expression vector, cell line modification finally production process in recombinant protein production, in this study, I will only focus on the optimization of cell growth conditions in a miniature bioreactor model. For this purpose, I will select four major determinants in cell growth; temperature, dissolved oxygen, glucose concentration and lactate concentration. The dependent variable is final viable cell density (VCD). \n",
    "\n",
    "### Factors Affecting CHO Cell Growth\n",
    "\n",
    "#### **Temperature**\n",
    "\n",
    "ALthough CHO cells are usually grown at 37°C (Becerra et al., 2012, Xu et al., 2019),  temperature shift (TS) to a hypothermic condition of 25–35°C have been shown produce cell growth (Al-Fageeh et al., 2006). Fan et al. (2010) and Kou et al. (2011) reported 3-fold and 5-fold increase of mAb productivity at  30°C compared to that of 37°C. Meanwhile, Jenkins and Hovey (1993) reported significantly increased protein yield from CHO cells at alternating temperatures between 34°C and 39°C. \n",
    "\n",
    "#### **Dissolved Oxygen**\n",
    "\n",
    "According to Zakrzewski, Lee and Lye (2022), fluctuations in dissolved oxygen (DO) tension between 10%–30% decreased cell growth by 35%. Fluctuations in DO resulted in increased lactate accumulation (Hippach et al., 2018). Restelli et al. (2006) found that under hyperoxic condition of 200% DO, the final viable cell yield was significantly lower than normoxic condition at 50% DO. \n",
    "\n",
    "#### **Glucose Concentration**\n",
    "\n",
    "Dowd, Kwok and Piret (2001) and Meuwly et al. (2006) proposed the use of glucose consumption rate (GCR) as a process monitoring tool to indicate medium utilization in cell cultures in bioreactors. López-Meza et al., (2016) found that recombinant CHO cells did not exhibit a lag-phase even at the lowest glucose concentration. Vergara et al. (2018) later reported that high feed glucose limits cell growth, but improves specific protein productivity in CHO cells significantly. Hence, it is important to find the right balance during the optimization process of recombinant cell production.\n",
    "\n",
    "#### **Lactate Concentration**\n",
    "\n",
    "While lactate is a waste product of cell growth and high levels of lactate has negative effects on cell growth (Zhou et al., 2011), Li et al. (2011) found that incorporating lactate in the culture medium could be beneficial in minimizing ammonia accumulation, thus improving cell culture performance. Zagari et al. (2013) reported that high lactate reduces mitochondrial oxidative metabolism in cells. According to Martínez-Monge et al. (2019), CHO cells can metabolize both glucose and lactate during the growth phase. The lactate metabolic shift from lactate production to consumption does not happen in cultures with elevated CO<sub>2</sub> pressure (Brunner et al., 2018).\n",
    "\n",
    "\n",
    "\n",
    "(Mason et al., 2012)\n",
    "\n",
    "(Ahmadi et al., 2017)\n",
    "\n",
    "(Alhuthali and Kontoravdi, 2022)\n",
    "\n",
    "(Moore et al., 2023)\n",
    "\n",
    "(Okamura et al., 2022)\n",
    "\n",
    "(Pan et al., 2017)\n",
    "\n",
    "(Pérez-Rodriguez et al., 2020)\n",
    "\n",
    "(Weng et al., 2020)\n"
   ]
  },
  {
   "cell_type": "code",
   "execution_count": null,
   "metadata": {
    "vscode": {
     "languageId": "plaintext"
    }
   },
   "outputs": [],
   "source": []
  },
  {
   "cell_type": "markdown",
   "metadata": {
    "vscode": {
     "languageId": "plaintext"
    }
   },
   "source": [
    "## Method"
   ]
  },
  {
   "cell_type": "markdown",
   "metadata": {
    "vscode": {
     "languageId": "plaintext"
    }
   },
   "source": [
    "### Assumptions:\n",
    "\n",
    "1. For the purpose of this study, we focus on growing CHO cells in a miniature bioreactor model. Growing cells in large-scale bioreactors usually takes 2-3 weeks (Xu et al., 2019).\n",
    "\n",
    "2. The final cell density reading is taken at the deceleration phase in a Standard Growth Curve of cell culture.\n",
    "\n",
    "![Standard Growth Curve,  Bhatia (2015)](https://ars.els-cdn.com/content/image/3-s2.0-B9780128022214000029-f02-09-9780128022214.jpg)"
   ]
  },
  {
   "cell_type": "markdown",
   "metadata": {
    "vscode": {
     "languageId": "plaintext"
    }
   },
   "source": [
    "#### Table 1: Variables involved in recombinant CHO cell culture \n",
    "\n",
    "\n",
    "| **Temperature (°C)**| **Dissolved Oxygen (%)** | **Glucose Concentration (g/L)** | **Lactate Concentration (g/L)** | **Final Viable Cell Density (FVCD) (x10<sup>6</sup>/ml)** | **Source** |\n",
    "| :-------: | :------: | :------: | :------: | :------: | :------: | \n",
    "| 37    |          |       | 9.58 |     2.2      | Vergara et al. (2014) |\n",
    "| 33   |          |       | 9.8 |      2.1     | Vergara et al. (2014) |\n",
    "| 37    |  50 |    7.2      |    5.8      |     25     | Siddiquee et al. (2019)|\n",
    "| 37    |  30 |     8     |    6      |    35      | Siddiquee et al. (2019)|\n",
    "| 32    |  50 |     8.2     |    1.1     |     70     | Siddiquee et al. (2019)|\n",
    "| 32    |  30 |      6    |     3     |     50     | Siddiquee et al. (2019)|\n",
    "| 35.5 ± 0.5|  50    |    500  |   6.5  |     62  | Zakrzewski, Lee and Lye (2022) |\n",
    "| 35.5 ± 0.5|    30  |  500    |  7.5   |   41  | Zakrzewski, Lee and Lye (2022) |\n",
    "| 37    | 3  |    |          |  1.5 | Restelli et al. (2006) |\n",
    "| 37    | 10 |    |          |  1.4 | Restelli et al. (2006)|\n",
    "| 37    | 50 |    |          |  1.5 | Restelli et al. (2006) |\n",
    "| 37   | 100 |    |          |  1.1 | Restelli et al. (2006)|\n",
    "| 37   | 200 |    |          |   1.15| Restelli et al. (2006)|\n",
    "| 36.5 |  10 |  12.5  |  4.5 |  8 | Hippach et al. (2018)|\n",
    "| 36.5 |  20 |  12.5  | 4.3  |   17| Hippach et al. (2018)|\n",
    "| 36.5 |  44 |  12.5  |  0.3 |  16 | Hippach et al. (2018) |\n",
    "| 36.5 | 60  |  12.5  | 0.2  |  16.5| Hippach et al. (2018)|\n",
    "| 32|          |4.5 |  2.5 | 15 | Xu et al. (2019)|\n",
    "| 34|          | 2.5 |  2.2 |  45   | Xu et al. (2019) |\n",
    "| 36.5|          | 1 |  0.25 |  52  | Xu et al. (2019) |\n",
    "| 37.5|          |  1.8 |  2.7 |7.5 | Xu et al. (2019)|\n",
    "| 38.5|          |  1.9 |  2.5 |6.75  | Xu et al. (2019) |\n",
    "| 30 |          |          |      |19.5    | McHugh et al. (2020)|\n",
    "| 32 |          |          | 0.9  | 22 |  McHugh et al. (2020) |\n",
    "| Row 10   |          |          |          |          | Tang et al. (2020) |\n",
    "| 37 | 30 |  6 | 4.2 |  7.5 | Li et al. (2011)|\n",
    "| Row 9    |          |          |          |          | Kou et al. (2011) |\n",
    "| 37   | 65 | 1.8 | 0.68 |  11 |  Zagari et al. (2013)|\n",
    "| 37 | 10 |          | 4.95 | 10.5 | Brunner et al. (2018) |\n",
    "| 37 | 25 |          | 3.43 | 14.5 | Brunner et al. (2018) |\n",
    "| 36.5 | 25 |          | 1.35 | 8.8| Brunner et al. (2018) |\n",
    "| 36.5 | 40 |          | 2.25 | 9.0 | Brunner et al. (2018) |\n",
    "| Row 9    |          |          |          |          | Tait et al. (2013)|\n",
    "| Row 10   |          |          |          |          |          |\n",
    "| Row 10   |          |          |          |          | Yoon et al. (2006) |\n",
    "| 37 |          | 6.85 | 0.16 |  8.8 | Martínez-Monge et al. (2019) |\n",
    "| Row 9    |          |          |          |          |          |\n",
    "| Row 10   |          |          |          |          | Sunley, Tharmalingam and Butler (2008)|\n",
    "| 33 |          | 3.6 | 0.90 | 1.51 | Vergara et al. (2018) |\n",
    "| 33 |          | 5.4 | 0.54 | 1.10 | Vergara et al. (2018) |\n",
    "| 33 |          | 7.2 | 0.26 | 0.88 | Vergara et al. (2018) |\n",
    "| 37 |          | 3.6 | 0.99 | 1.65 | Vergara et al. (2018) |\n",
    "| 37 |          | 5.4 | 0.78 | 1.01 | Vergara et al. (2018) |\n",
    "| 37 |          | 7.2 | 0.57 | 0.80 | Vergara et al. (2018) |\n",
    "| 33   |          |  4.8 |  0.97 |  6.8 | López-Meza et al., (2016) |\n",
    "| 33   |          |  3.6 |  0.57 |  5.5 | López-Meza et al., (2016) |\n",
    "| 33   |          |  2.4 |  0.2  |  3   | López-Meza et al., (2016) |\n",
    "| 33   |          |  1.2 |  0.01 |  1.1 | López-Meza et al., (2016) |\n",
    "| Row 10   |          |          |          |          |          |\n",
    "| Row 10   |          |          |          |          |          |\n",
    "| Row 8    |          |          |          |          |          | \n",
    "| Row 9    |          |          |          |          |          |\n",
    "| Row 10   |          |          |          |          |          |"
   ]
  },
  {
   "cell_type": "code",
   "execution_count": null,
   "metadata": {
    "vscode": {
     "languageId": "plaintext"
    }
   },
   "outputs": [],
   "source": []
  },
  {
   "cell_type": "code",
   "execution_count": null,
   "metadata": {
    "vscode": {
     "languageId": "plaintext"
    }
   },
   "outputs": [],
   "source": []
  },
  {
   "cell_type": "code",
   "execution_count": null,
   "metadata": {
    "vscode": {
     "languageId": "plaintext"
    }
   },
   "outputs": [],
   "source": []
  },
  {
   "cell_type": "markdown",
   "metadata": {
    "vscode": {
     "languageId": "plaintext"
    }
   },
   "source": [
    "## Results and Discussion"
   ]
  },
  {
   "cell_type": "markdown",
   "metadata": {
    "vscode": {
     "languageId": "plaintext"
    }
   },
   "source": []
  },
  {
   "cell_type": "code",
   "execution_count": null,
   "metadata": {
    "vscode": {
     "languageId": "plaintext"
    }
   },
   "outputs": [],
   "source": []
  },
  {
   "cell_type": "code",
   "execution_count": null,
   "metadata": {
    "vscode": {
     "languageId": "plaintext"
    }
   },
   "outputs": [],
   "source": []
  },
  {
   "cell_type": "markdown",
   "metadata": {},
   "source": [
    "## Conclusion"
   ]
  },
  {
   "cell_type": "markdown",
   "metadata": {},
   "source": []
  },
  {
   "cell_type": "markdown",
   "metadata": {},
   "source": [
    "## References"
   ]
  },
  {
   "cell_type": "markdown",
   "metadata": {},
   "source": [
    "Abu-Absi, N.R., Kenty, B.M., Cuellar, M.E., Borys, M.C., Sakhamuri, S., Strachan, D.J., Hausladen, M.C. and Li, Z.J. (2010). Real time monitoring of multiple parameters in mammalian cell culture bioreactors using an in-line Raman spectroscopy probe. Biotechnology and Bioengineering, 108(5), pp.1215–1221. doi:https://doi.org/10.1002/bit.23023.Ahmadi, S., Davami, F., Davoudi, N., Nematpour, F., Ahmadi, M., Ebadat, S., Azadmanesh, K., Barkhordari, F. and Mahboudi, F. (2017). Monoclonal antibodies expression improvement in CHO cells by PiggyBac transposition regarding vectors ratios and design. PLOS ONE, 12(6), p.e0179902. doi:https://doi.org/10.1371/journal.pone.0179902.Alhuthali, S. and Kontoravdi, C. (2022). Population balance modelling captures host cell protein dynamics in CHO cell cultures. PLOS ONE, 17(3), p.e0265886. doi:https://doi.org/10.1371/journal.pone.0265886.Bhatia, S. (2015). Plant Tissue Culture. In: Modern Applications of Plant Biotechnology in Pharmaceutical Sciences. [online] Academic Press. Available at: https://www.sciencedirect.com/book/9780128022214/modern-applications-of-plant-biotechnology-in-pharmaceutical-sciences#book-info [Accessed 14 Nov. 2023].Content Lab U.S. (2015). DARZALEX® (daratumumab) Approved by U.S. FDA: First Human Anti-CD38 Monoclonal Antibody Available for the Treatment of Multiple Myeloma | Johnson & Johnson. [online] Available at: https://www.jnj.com/media-center/press-releases/darzalex-daratumumab-approved-by-us-fda-first-human-anti-cd38-monoclonal-antibody-available-for-the-treatment-of-multiple-myeloma [Accessed 13 Nov. 2023].DeLuca, K.F., Mick, J.E. and DeLuca, J.G. (2022). Production and purification of recombinant monoclonal antibodies from human cells based on a primary sequence. STAR protocols, 3(4), pp.101915–101915. doi:https://doi.org/10.1016/j.xpro.2022.101915.Eberle, C. (2023). Antibody production in CHO cells: Advantages & Disadvantages. [online] evitria.com. Available at: https://www.evitria.com/journal/antibodies/antibody-production-cho-cells-advantages/ [Accessed 12 Nov. 2023].Ho, S.C.L., Koh, E.Y.C., van Beers, M., Mueller, M., Wan, C., Teo, G., Song, Z., Yen Wah Tong, Bardor, M. and Yang, Y. (2013). Control of IgG LC:HC ratio in stably transfected CHO cells and study of the impact on expression, aggregation, glycosylation and conformational stability. Journal of Biotechnology, 165(3-4), pp.157–166. doi:https://doi.org/10.1016/j.jbiotec.2013.03.019.Jain, E. and Kumar, A. (2008). Upstream processes in antibody production: Evaluation of critical parameters. Biotechnology Advances, [online] 26(1), pp.46–72. Available at: https://www.sciencedirect.com/science/article/abs/pii/S0734975007000985?via%3Dihub [Accessed 13 Nov. 2023].Jyothilekshmi, I. and Jayaprakash, N.S. (2021). Trends in Monoclonal Antibody Production Using Various Bioreactor Syst. Journal of Microbiology and Biotechnology, 31(3), pp.349–357. doi:https://doi.org/10.4014/jmb.1911.11066.Kunert, R. and Reinhart, D. (2016). Advances in recombinant antibody manufacturing. Applied Microbiology and Biotechnology, [online] 100(8), pp.3451–3461. doi:https://doi.org/10.1007/s00253-016-7388-9.Li, F., Vijayasankaran, N., Shen, A. (Yijuan), Kiss, R. and Amanullah, A. (2010). Cell culture processes for monoclonal antibody production. mAbs, [online] 2(5), pp.466–479. doi:https://doi.org/10.4161/mabs.2.5.12720.Li, F., Zhou, J.X., Yang, X., Tressel, T. and Lee, B. (2004). Current Therapeutic Antibody Production and Process Optimization. Bioprocessing Journal. [online] Available at: https://citeseerx.ist.psu.edu/document?repid=rep1&type=pdf&doi=213c35387b580e5c2fa211f414dc5c219557733e [Accessed 13 Nov. 2023].Li, M., Ebel, B., Chauchard, F., Guédon, E. and Marc, A. (2018a). Parallel comparison of in situ Raman and NIR spectroscopies to simultaneously measure multiple variables toward real-time monitoring of CHO cell bioreactor cultures. Biochemical Engineering Journal, 137, pp.205–213. doi:https://doi.org/10.1016/j.bej.2018.06.005.Li, M.-Y., Ebel, B., Paris, C., Chauchard, F., Guedon, E. and Marc, A. (2018b). Real-time monitoring of antibody glycosylation site occupancy by in situ\n",
    " Raman spectroscopy during bioreactor CHO cell cultures. Biotechnology Progress, 34(2), pp.486–493. doi:https://doi.org/10.1002/btpr.2604.Malik, B. and Ghatol, A. (2023). Understanding How Monoclonal Antibodies Work. [online] PubMed. Available at: https://www.ncbi.nlm.nih.gov/books/NBK572118/ [Accessed 13 Nov. 2023].Mason, M., Sweeney, B., Cain, K., Stephens, P. and Sharfstein, S.T. (2012). Identifying bottlenecks in transient and stable production of recombinant monoclonal-antibody sequence variants in chinese hamster ovary cells. Biotechnology Progress, 28(3), pp.846–855. doi:https://doi.org/10.1002/btpr.1542.Mayo Clinic (2019). Monoclonal antibody drugs for cancer: How they work. [online] Mayo Clinic. Available at: https://www.mayoclinic.org/diseases-conditions/cancer/in-depth/monoclonal-antibody/art-20047808 [Accessed 13 Nov. 2023].Moore, B., Georgakis, C., Antoniou, C. and Khattak, S. (2023). A Two-Phase Approach Optimizing Productivity for a mAb-producing CHO Cell Culture Process Using Dynamic Response Surface Methodology Models. Biochemical Engineering Journal, [online] 201, p.109137. doi:https://doi.org/10.1016/j.bej.2023.109137.MSD Connect UK. (2022). About KEYTRUDA | KEYTRUDA® (pembrolizumab). [online] Available at: https://www.msdconnect.co.uk/products/keytruda/ [Accessed 13 Nov. 2023].Okamura, K., Badr, S., Murakami, S. and Sugiyama, H. (2022). Hybrid Modeling of CHO Cell Cultivation in Monoclonal Antibody Production with an Impurity Generation Module. Industrial & Engineering Chemistry Research, 61(40), pp.14898–14909. doi:https://doi.org/10.1021/acs.iecr.2c00736.Pan, X., Dalm, C., Wijffels, R.H. and Martens, D.E. (2017). Metabolic characterization of a CHO cell size increase phase in fed-batch cultures. Applied Microbiology and Biotechnology, 101(22), pp.8101–8113. doi:https://doi.org/10.1007/s00253-017-8531-y.Pérez-Rodriguez, S., Ramírez-Lira, M. de J., Trujillo-Roldán, M.A. and Valdez-Cruz, N.A. (2020). Nutrient supplementation strategy improves cell concentration and longevity, monoclonal antibody production and lactate metabolism of Chinese hamster ovary cells. Bioengineered, 11(1), pp.463–471. doi:https://doi.org/10.1080/21655979.2020.1744266.Rodrigues, M.E., Costa, A.R., Henriques, M., Azeredo, J. and Oliveira, R. (2009). Technological progresses in monoclonal antibody production systems. Biotechnology Progress, p.NA-NA. doi:https://doi.org/10.1002/btpr.348.Rowland‐Jones, R.C. and Jaques, C. (2018). At‐line raman spectroscopy and design of experiments for robust monitoring and control of miniature bioreactor cultures. Biotechnology Progress, 35(2), p.e2740. doi:https://doi.org/10.1002/btpr.2740.Schofield, D. (2023). Monoclonal antibody production: Process, Technologies & Steps. [online] evitria. Available at: https://www.evitria.com/journal/monoclonal-antibodies/monoclonal-antibody-production/?utm_term=&utm_campaign=DSA+Journal+evitria.com&utm_source=adwords&utm_medium=ppc&hsa_acc=5241823564&hsa_cam=12420631398&hsa_grp=117890023163&hsa_ad=500902445910&hsa_src=g&hsa_tgt=dsa-468439974237&hsa_kw=&hsa_mt=&hsa_net=adwords&hsa_ver=3&gclid=Cj0KCQiAr8eqBhD3ARIsAIe-buPw5xlTj0JoRyBKNJ9mfQpyi7T6fIiYX6oJOphf2aJnYoHwOld0cUgaAptFEALw_wcB [Accessed 13 Nov. 2023].Singh, N., Arunkumar, A., Chollangi, S., Tan, Z.G., Borys, M. and Li, Z.J. (2015). Clarification technologies for monoclonal antibody manufacturing processes: Current state and future perspectives. Biotechnology and Bioengineering, 113(4), pp.698–716. doi:https://doi.org/10.1002/bit.25810.Steinhoff, R.F., Karst, D.J., Steinebach, F., Kopp, M.R.G., Schmidt, G.W., Stettler, A., Krismer, J., Soos, M., Pabst, M., Hierlemann, A., Morbidelli, M. and Zenobi, R. (2016). Microarray-based MALDI-TOF mass spectrometry enables monitoring of monoclonal antibody production in batch and perfusion cell cultures. Methods, [online] 104, pp.33–40. doi:https://doi.org/10.1016/j.ymeth.2015.12.011.Vázquez-Rey, M. and Lang, D.A. (2011). Aggregates in monoclonal antibody manufacturing processes. Biotechnology and Bioengineering, 108(7), pp.1494–1508. doi:https://doi.org/10.1002/bit.23155.Weng, Z., Jin, J., Shao, C. and Li, H. (2020). Reduction of charge variants by CHO cell culture process optimization. Cytotechnology, 72(2), pp.259–269. doi:https://doi.org/10.1007/s10616-020-00375-x.Whelan, J., Craven, S. and Glennon, B. (2012). In situ Raman spectroscopy for simultaneous monitoring of multiple process parameters in mammalian cell culture bioreactors. Biotechnology Progress, 28(5), pp.1355–1362. doi:https://doi.org/10.1002/btpr.1590.www.cancerresearchuk.org. (2021). Monoclonal antibodies (MABs) | Immunotherapy | Cancer Research UK. [online] Available at: https://www.cancerresearchuk.org/about-cancer/treatment/immunotherapy/types/monoclonal-antibodies [Accessed 13 Nov. 2023].www.pfizer.com. (2020). Pfizer Brings Three New Biosimilars to U.S. Patients at Substantial Discounts | Pfizer. [online] Available at: https://www.pfizer.com/pfizer-brings-three-new-biosimilars-us-patients-substantial-discounts [Accessed 13 Nov. 2023].Zhao, Y., Xing, J., Xing, J.Z., Ang, W.T. and Chen, J. (2014). Applications of low-intensity pulsed ultrasound to increase monoclonal antibody production in CHO cells using shake flasks or wavebags. Ultrasonics, 54(6), pp.1439–1447. doi:https://doi.org/10.1016/j.ultras.2014.04.025."
   ]
  },
  {
   "cell_type": "markdown",
   "metadata": {
    "vscode": {
     "languageId": "plaintext"
    }
   },
   "source": [
    "***\n",
    "\n",
    "## End of Project 1"
   ]
  }
 ],
 "metadata": {
  "language_info": {
   "name": "python"
  }
 },
 "nbformat": 4,
 "nbformat_minor": 2
}
